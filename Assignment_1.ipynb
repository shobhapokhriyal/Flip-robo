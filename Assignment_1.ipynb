{
 "cells": [
  {
   "cell_type": "code",
   "execution_count": 1,
   "metadata": {},
   "outputs": [
    {
     "name": "stdout",
     "output_type": "stream",
     "text": [
      "Requirement already satisfied: selenium in c:\\programdata\\anaconda3\\lib\\site-packages (3.141.0)\n",
      "Requirement already satisfied: urllib3 in c:\\programdata\\anaconda3\\lib\\site-packages (from selenium) (1.25.9)\n"
     ]
    }
   ],
   "source": [
    "!pip install selenium"
   ]
  },
  {
   "cell_type": "code",
   "execution_count": 2,
   "metadata": {},
   "outputs": [],
   "source": [
    "import selenium\n",
    "import pandas as pd\n",
    "from selenium import webdriver\n"
   ]
  },
  {
   "cell_type": "code",
   "execution_count": 3,
   "metadata": {},
   "outputs": [],
   "source": [
    "driver= webdriver.Chrome(r\"C:\\Users\\shobh\\Downloads\\chromedriver_win32\\chromedriver.exe\")"
   ]
  },
  {
   "cell_type": "code",
   "execution_count": 4,
   "metadata": {},
   "outputs": [],
   "source": [
    "url = 'https://www.naukri.com/'\n",
    "driver.get(url)"
   ]
  },
  {
   "cell_type": "code",
   "execution_count": 5,
   "metadata": {},
   "outputs": [
    {
     "data": {
      "text/plain": [
       "<selenium.webdriver.remote.webelement.WebElement (session=\"88380876949436bda4e6af3d05d59248\", element=\"58784b8e-4154-4ace-a0e6-a553c306b268\")>"
      ]
     },
     "execution_count": 5,
     "metadata": {},
     "output_type": "execute_result"
    }
   ],
   "source": [
    "search_job=driver.find_element_by_id('qsb-keyword-sugg')\n",
    "search_job"
   ]
  },
  {
   "cell_type": "code",
   "execution_count": 6,
   "metadata": {},
   "outputs": [],
   "source": [
    "search_job.send_keys(\"Data Analyst\")"
   ]
  },
  {
   "cell_type": "code",
   "execution_count": 7,
   "metadata": {},
   "outputs": [],
   "source": [
    "search_loc= driver.find_element_by_id(\"qsb-location-sugg\")\n",
    "search_loc.send_keys(\"Bangalore\")"
   ]
  },
  {
   "cell_type": "code",
   "execution_count": 8,
   "metadata": {},
   "outputs": [],
   "source": [
    "search_btn=driver.find_element_by_xpath(\"//button[@class='btn']\")\n",
    "search_btn.click()"
   ]
  },
  {
   "cell_type": "code",
   "execution_count": 34,
   "metadata": {},
   "outputs": [
    {
     "data": {
      "text/plain": [
       "[<selenium.webdriver.remote.webelement.WebElement (session=\"88380876949436bda4e6af3d05d59248\", element=\"d22a9177-61f7-4053-9bab-0449ac3b8374\")>,\n",
       " <selenium.webdriver.remote.webelement.WebElement (session=\"88380876949436bda4e6af3d05d59248\", element=\"b27d12ff-f696-4fc1-b877-713ff55bd2f4\")>,\n",
       " <selenium.webdriver.remote.webelement.WebElement (session=\"88380876949436bda4e6af3d05d59248\", element=\"ef50730f-6c72-44bc-a379-6264a854f3aa\")>,\n",
       " <selenium.webdriver.remote.webelement.WebElement (session=\"88380876949436bda4e6af3d05d59248\", element=\"3291b325-41b1-4b1c-9ea4-fc9c4cad4d8c\")>,\n",
       " <selenium.webdriver.remote.webelement.WebElement (session=\"88380876949436bda4e6af3d05d59248\", element=\"1205e1e9-d1ff-4d81-8208-22b6534d5ebc\")>,\n",
       " <selenium.webdriver.remote.webelement.WebElement (session=\"88380876949436bda4e6af3d05d59248\", element=\"f24dfa6f-78f9-4ff8-b022-1368e563ba33\")>,\n",
       " <selenium.webdriver.remote.webelement.WebElement (session=\"88380876949436bda4e6af3d05d59248\", element=\"a4de0bad-0556-4b3f-95f6-1b5ac577a9a9\")>,\n",
       " <selenium.webdriver.remote.webelement.WebElement (session=\"88380876949436bda4e6af3d05d59248\", element=\"8c6ad466-3879-402c-9da6-3d40720317f4\")>,\n",
       " <selenium.webdriver.remote.webelement.WebElement (session=\"88380876949436bda4e6af3d05d59248\", element=\"fe44f2d0-2227-4571-8487-0986f890ec42\")>,\n",
       " <selenium.webdriver.remote.webelement.WebElement (session=\"88380876949436bda4e6af3d05d59248\", element=\"ad18c151-4c46-4091-a7b0-884de32ad91c\")>,\n",
       " <selenium.webdriver.remote.webelement.WebElement (session=\"88380876949436bda4e6af3d05d59248\", element=\"a4809ed7-7747-4bda-a164-9581549adf8e\")>,\n",
       " <selenium.webdriver.remote.webelement.WebElement (session=\"88380876949436bda4e6af3d05d59248\", element=\"247bfae5-62cc-44bc-8dd2-3828025bf65a\")>,\n",
       " <selenium.webdriver.remote.webelement.WebElement (session=\"88380876949436bda4e6af3d05d59248\", element=\"2eefb3c4-6c91-4bad-a9e3-5a18ca2f9824\")>,\n",
       " <selenium.webdriver.remote.webelement.WebElement (session=\"88380876949436bda4e6af3d05d59248\", element=\"7fdae272-7606-4b9b-ba14-c88f80270fb2\")>,\n",
       " <selenium.webdriver.remote.webelement.WebElement (session=\"88380876949436bda4e6af3d05d59248\", element=\"0e2204de-fc42-4420-a1cc-160d851c49a6\")>,\n",
       " <selenium.webdriver.remote.webelement.WebElement (session=\"88380876949436bda4e6af3d05d59248\", element=\"1f5286ef-447d-4ab1-97ef-91317b74c733\")>,\n",
       " <selenium.webdriver.remote.webelement.WebElement (session=\"88380876949436bda4e6af3d05d59248\", element=\"a0a2b0e7-3020-45c0-b73f-bed0c8cddb41\")>,\n",
       " <selenium.webdriver.remote.webelement.WebElement (session=\"88380876949436bda4e6af3d05d59248\", element=\"731f2f6c-3a71-423c-b9e0-cf6506fff8d4\")>,\n",
       " <selenium.webdriver.remote.webelement.WebElement (session=\"88380876949436bda4e6af3d05d59248\", element=\"08cfacd1-e379-4aab-b5e6-9a4086ff64fa\")>,\n",
       " <selenium.webdriver.remote.webelement.WebElement (session=\"88380876949436bda4e6af3d05d59248\", element=\"cbf0c1b5-109e-42e4-bdab-b8dc352c3519\")>]"
      ]
     },
     "execution_count": 34,
     "metadata": {},
     "output_type": "execute_result"
    }
   ],
   "source": [
    "titles_tags=driver.find_elements_by_xpath(\"//a [@class='title fw500 ellipsis']\")\n",
    "titles_tags"
   ]
  },
  {
   "cell_type": "code",
   "execution_count": 35,
   "metadata": {},
   "outputs": [
    {
     "data": {
      "text/plain": [
       "['Data Scientist / Data Analyst -Business Analyst',\n",
       " 'Hiring Data Analysts For E commerce Platform || WFH',\n",
       " 'Assistant Vice President - MIS & Reporting ( Business Data Analyst)',\n",
       " 'Data Analyst',\n",
       " 'Hiring For Data Analyst/ MIS Reporting Analyst - Bangalore',\n",
       " 'DA - Urgent Opening For Data Analyst BFSI Domain - Pan India',\n",
       " 'Data Analyst - Informatica MDM',\n",
       " 'Data Analyst',\n",
       " 'Data Analyst',\n",
       " 'Data Analyst',\n",
       " 'Data Analyst',\n",
       " 'Data Analyst',\n",
       " 'Data Analyst',\n",
       " 'Senior/Regular Business Analyst / Data Analyst',\n",
       " 'Data Analyst',\n",
       " 'Business Data Analyst - MIS & Reporting',\n",
       " 'Data Analyst / Business Analyst -',\n",
       " 'Data Analyst',\n",
       " 'Associate - Data Analyst ( Growth)',\n",
       " 'Data Analyst']"
      ]
     },
     "execution_count": 35,
     "metadata": {},
     "output_type": "execute_result"
    }
   ],
   "source": [
    "job_titles=[]\n",
    "for i in titles_tags:\n",
    "    job_titles.append(i.text)\n",
    "job_titles"
   ]
  },
  {
   "cell_type": "code",
   "execution_count": 29,
   "metadata": {},
   "outputs": [
    {
     "data": {
      "text/plain": [
       "[<selenium.webdriver.remote.webelement.WebElement (session=\"88380876949436bda4e6af3d05d59248\", element=\"84336739-7b98-4c68-89ed-5247cfeb3a60\")>,\n",
       " <selenium.webdriver.remote.webelement.WebElement (session=\"88380876949436bda4e6af3d05d59248\", element=\"dff64961-1214-440e-8794-4f6253e02921\")>,\n",
       " <selenium.webdriver.remote.webelement.WebElement (session=\"88380876949436bda4e6af3d05d59248\", element=\"1198e69a-c139-42a2-8cbd-a9b17aa5ed75\")>,\n",
       " <selenium.webdriver.remote.webelement.WebElement (session=\"88380876949436bda4e6af3d05d59248\", element=\"32336408-c0ad-4662-a0de-8ac917551201\")>,\n",
       " <selenium.webdriver.remote.webelement.WebElement (session=\"88380876949436bda4e6af3d05d59248\", element=\"f0894ae5-56df-4724-b2e8-060c5c6fce34\")>,\n",
       " <selenium.webdriver.remote.webelement.WebElement (session=\"88380876949436bda4e6af3d05d59248\", element=\"7b2c7623-bb24-4523-b141-84dc0309f797\")>,\n",
       " <selenium.webdriver.remote.webelement.WebElement (session=\"88380876949436bda4e6af3d05d59248\", element=\"b3830a9e-422b-4842-89c7-c4e9a8ee2f9e\")>,\n",
       " <selenium.webdriver.remote.webelement.WebElement (session=\"88380876949436bda4e6af3d05d59248\", element=\"314f2a94-879b-45ea-9dbb-da65bbac66b7\")>,\n",
       " <selenium.webdriver.remote.webelement.WebElement (session=\"88380876949436bda4e6af3d05d59248\", element=\"c82537c5-bfa2-4d75-a948-ab0de10c391b\")>,\n",
       " <selenium.webdriver.remote.webelement.WebElement (session=\"88380876949436bda4e6af3d05d59248\", element=\"b3c3572f-ada9-462d-a958-fb92e6e8d39b\")>,\n",
       " <selenium.webdriver.remote.webelement.WebElement (session=\"88380876949436bda4e6af3d05d59248\", element=\"e31db730-9ac0-42a5-a147-c0421c1d4e04\")>,\n",
       " <selenium.webdriver.remote.webelement.WebElement (session=\"88380876949436bda4e6af3d05d59248\", element=\"25d6b76b-f28b-4ec7-9597-9b47edca2a1d\")>,\n",
       " <selenium.webdriver.remote.webelement.WebElement (session=\"88380876949436bda4e6af3d05d59248\", element=\"3b0ca4aa-0f3d-4611-9942-ea8c9842cbc7\")>,\n",
       " <selenium.webdriver.remote.webelement.WebElement (session=\"88380876949436bda4e6af3d05d59248\", element=\"d6801461-e841-4390-a10f-6982007f8400\")>,\n",
       " <selenium.webdriver.remote.webelement.WebElement (session=\"88380876949436bda4e6af3d05d59248\", element=\"8a4cda6e-e5ae-4191-b6ab-70ace0175e5b\")>,\n",
       " <selenium.webdriver.remote.webelement.WebElement (session=\"88380876949436bda4e6af3d05d59248\", element=\"d1a97a1b-d385-4519-b75a-0a6f5d8b2824\")>,\n",
       " <selenium.webdriver.remote.webelement.WebElement (session=\"88380876949436bda4e6af3d05d59248\", element=\"ffc87251-2d89-430f-853e-54fca5b15b16\")>,\n",
       " <selenium.webdriver.remote.webelement.WebElement (session=\"88380876949436bda4e6af3d05d59248\", element=\"ed33e63e-7ee6-43bc-9e94-3ae9928651bc\")>,\n",
       " <selenium.webdriver.remote.webelement.WebElement (session=\"88380876949436bda4e6af3d05d59248\", element=\"1bab25aa-7246-4bd1-8ac2-0c4b9d66a196\")>,\n",
       " <selenium.webdriver.remote.webelement.WebElement (session=\"88380876949436bda4e6af3d05d59248\", element=\"a1d62c1e-8892-481f-af47-41497d99ee35\")>]"
      ]
     },
     "execution_count": 29,
     "metadata": {},
     "output_type": "execute_result"
    }
   ],
   "source": [
    "companies_tags=driver.find_elements_by_xpath(\"//a [@class='subTitle ellipsis fleft']\")\n",
    "companies_tags"
   ]
  },
  {
   "cell_type": "code",
   "execution_count": 36,
   "metadata": {},
   "outputs": [
    {
     "data": {
      "text/plain": [
       "['Inflexion Analytix Private Limited',\n",
       " 'Allegis Services India Pvt. Ltd.',\n",
       " 'INTERTRUSTVITEOS CORPORATE AND FUND SERVICES PVT. LTD.',\n",
       " 'Applied Materials',\n",
       " 'PHARMACEUTICAL RESEARCH ASSOCIATES INDIA Pvt Ltd',\n",
       " 'Tata Consultancy Services Ltd.',\n",
       " 'Shell India Markets Private Limited',\n",
       " 'Myntra Designs Pvt. Ltd.',\n",
       " 'Myntra Designs Pvt. Ltd.',\n",
       " 'Myntra Designs Pvt. Ltd.',\n",
       " 'Myntra Designs Pvt. Ltd.',\n",
       " 'Myntra Designs Pvt. Ltd.',\n",
       " 'SA Tech Software (I) Pvt. Ltd.',\n",
       " 'Luxoft',\n",
       " 'IBM India Pvt. Limited',\n",
       " 'INTERTRUST GROUP',\n",
       " 'LatentView Analytics Private Limited',\n",
       " 'Udaan',\n",
       " 'Myntra Designs Pvt. Ltd.',\n",
       " 'Yodlee Infotech Private Limited']"
      ]
     },
     "execution_count": 36,
     "metadata": {},
     "output_type": "execute_result"
    }
   ],
   "source": [
    "company_names=[]\n",
    "for i in companies_tags:\n",
    "    company_names.append(i.text)\n",
    "company_names"
   ]
  },
  {
   "cell_type": "code",
   "execution_count": 31,
   "metadata": {},
   "outputs": [
    {
     "data": {
      "text/plain": [
       "[<selenium.webdriver.remote.webelement.WebElement (session=\"88380876949436bda4e6af3d05d59248\", element=\"19369004-fea8-49ea-a5dc-918a2c4d6c0b\")>,\n",
       " <selenium.webdriver.remote.webelement.WebElement (session=\"88380876949436bda4e6af3d05d59248\", element=\"256fb331-5652-4e7e-9de6-1c26104a15e8\")>,\n",
       " <selenium.webdriver.remote.webelement.WebElement (session=\"88380876949436bda4e6af3d05d59248\", element=\"1157ec97-ee41-483b-a5cf-124f47a990dc\")>,\n",
       " <selenium.webdriver.remote.webelement.WebElement (session=\"88380876949436bda4e6af3d05d59248\", element=\"e471f7e4-a7aa-416e-99ea-3165a6149cfd\")>,\n",
       " <selenium.webdriver.remote.webelement.WebElement (session=\"88380876949436bda4e6af3d05d59248\", element=\"f7e177a1-19f5-4134-a074-a4b4cf505b56\")>,\n",
       " <selenium.webdriver.remote.webelement.WebElement (session=\"88380876949436bda4e6af3d05d59248\", element=\"9512d67e-d705-4bff-87a0-99d14532bb25\")>,\n",
       " <selenium.webdriver.remote.webelement.WebElement (session=\"88380876949436bda4e6af3d05d59248\", element=\"c69a19a5-e4ff-44a1-9ac5-5cbda00d44be\")>,\n",
       " <selenium.webdriver.remote.webelement.WebElement (session=\"88380876949436bda4e6af3d05d59248\", element=\"8f8a562a-df6e-4522-a755-07515cfa946a\")>,\n",
       " <selenium.webdriver.remote.webelement.WebElement (session=\"88380876949436bda4e6af3d05d59248\", element=\"f2749c22-71e5-4b11-88c1-28cab06e205f\")>,\n",
       " <selenium.webdriver.remote.webelement.WebElement (session=\"88380876949436bda4e6af3d05d59248\", element=\"02ba9837-0532-410e-bc1c-d2abf16b084c\")>,\n",
       " <selenium.webdriver.remote.webelement.WebElement (session=\"88380876949436bda4e6af3d05d59248\", element=\"28477293-9831-44b0-a925-b0d6bd618554\")>,\n",
       " <selenium.webdriver.remote.webelement.WebElement (session=\"88380876949436bda4e6af3d05d59248\", element=\"f6bfb557-e343-49e9-a62c-61f0d554d966\")>,\n",
       " <selenium.webdriver.remote.webelement.WebElement (session=\"88380876949436bda4e6af3d05d59248\", element=\"868a37ce-4b39-4abc-8c07-acc800ca1c8a\")>,\n",
       " <selenium.webdriver.remote.webelement.WebElement (session=\"88380876949436bda4e6af3d05d59248\", element=\"fc9e7b89-c5e4-431e-b2bc-3b8b4fcedb3e\")>,\n",
       " <selenium.webdriver.remote.webelement.WebElement (session=\"88380876949436bda4e6af3d05d59248\", element=\"0deb4712-a055-4028-b19c-7c9bed577d94\")>,\n",
       " <selenium.webdriver.remote.webelement.WebElement (session=\"88380876949436bda4e6af3d05d59248\", element=\"a6353bd0-0419-41f0-bc62-b33d8d7c2f37\")>,\n",
       " <selenium.webdriver.remote.webelement.WebElement (session=\"88380876949436bda4e6af3d05d59248\", element=\"5e7c540b-a509-41f5-ac56-eddc3c9a6f8a\")>,\n",
       " <selenium.webdriver.remote.webelement.WebElement (session=\"88380876949436bda4e6af3d05d59248\", element=\"109eb653-5f90-496b-a28f-152ba7facfd6\")>,\n",
       " <selenium.webdriver.remote.webelement.WebElement (session=\"88380876949436bda4e6af3d05d59248\", element=\"4795e738-5b51-4755-9e61-eb914d3a5650\")>,\n",
       " <selenium.webdriver.remote.webelement.WebElement (session=\"88380876949436bda4e6af3d05d59248\", element=\"b8dea14e-68b4-44e2-909c-8405d407e8b5\")>]"
      ]
     },
     "execution_count": 31,
     "metadata": {},
     "output_type": "execute_result"
    }
   ],
   "source": [
    "experience_tags=driver.find_elements_by_xpath(\"//li [@class='fleft grey-text br2 placeHolderLi experience']/span\")\n",
    "experience_tags"
   ]
  },
  {
   "cell_type": "code",
   "execution_count": 37,
   "metadata": {},
   "outputs": [
    {
     "data": {
      "text/plain": [
       "['0-3 Yrs',\n",
       " '0-5 Yrs',\n",
       " '12-18 Yrs',\n",
       " '7-10 Yrs',\n",
       " '2-4 Yrs',\n",
       " '4-9 Yrs',\n",
       " '6-9 Yrs',\n",
       " '3-6 Yrs',\n",
       " '3-6 Yrs',\n",
       " '4-9 Yrs',\n",
       " '4-8 Yrs',\n",
       " '3-6 Yrs',\n",
       " '1-3 Yrs',\n",
       " '3-6 Yrs',\n",
       " '5-10 Yrs',\n",
       " '3-8 Yrs',\n",
       " '1-5 Yrs',\n",
       " '1-6 Yrs',\n",
       " '2-3 Yrs',\n",
       " '2-6 Yrs']"
      ]
     },
     "execution_count": 37,
     "metadata": {},
     "output_type": "execute_result"
    }
   ],
   "source": [
    "Experience=[]\n",
    "for i in experience_tags:\n",
    "    Experience.append(i.text)\n",
    "Experience"
   ]
  },
  {
   "cell_type": "code",
   "execution_count": 15,
   "metadata": {},
   "outputs": [
    {
     "data": {
      "text/plain": [
       "[<selenium.webdriver.remote.webelement.WebElement (session=\"88380876949436bda4e6af3d05d59248\", element=\"004d4209-2dc2-42c3-8f8e-9b3110afb9d2\")>,\n",
       " <selenium.webdriver.remote.webelement.WebElement (session=\"88380876949436bda4e6af3d05d59248\", element=\"a32d9b7a-114f-49e6-8962-784a0ea2d765\")>,\n",
       " <selenium.webdriver.remote.webelement.WebElement (session=\"88380876949436bda4e6af3d05d59248\", element=\"904a4b57-954e-40d6-a2a3-d5b1137c54d4\")>,\n",
       " <selenium.webdriver.remote.webelement.WebElement (session=\"88380876949436bda4e6af3d05d59248\", element=\"cbcf24be-086d-4331-9f59-eb7fc2dbfb9d\")>,\n",
       " <selenium.webdriver.remote.webelement.WebElement (session=\"88380876949436bda4e6af3d05d59248\", element=\"a28c4e95-5a51-4cd1-a3e6-8f0e34116c51\")>,\n",
       " <selenium.webdriver.remote.webelement.WebElement (session=\"88380876949436bda4e6af3d05d59248\", element=\"924d0814-75f4-498f-93f6-bf02f79472a3\")>,\n",
       " <selenium.webdriver.remote.webelement.WebElement (session=\"88380876949436bda4e6af3d05d59248\", element=\"98d25621-8006-4cd9-8bee-593bdd64df23\")>,\n",
       " <selenium.webdriver.remote.webelement.WebElement (session=\"88380876949436bda4e6af3d05d59248\", element=\"17e3af6b-1b35-4ef0-b0cc-c5d5aaed8a5d\")>,\n",
       " <selenium.webdriver.remote.webelement.WebElement (session=\"88380876949436bda4e6af3d05d59248\", element=\"3e9191d3-bfea-4839-940b-9ff94841ca7a\")>,\n",
       " <selenium.webdriver.remote.webelement.WebElement (session=\"88380876949436bda4e6af3d05d59248\", element=\"6e151a72-1ffb-48bf-a440-f4189ec5c3cb\")>,\n",
       " <selenium.webdriver.remote.webelement.WebElement (session=\"88380876949436bda4e6af3d05d59248\", element=\"2ec1b1cc-68ef-4ba0-aff8-40cffc90a027\")>,\n",
       " <selenium.webdriver.remote.webelement.WebElement (session=\"88380876949436bda4e6af3d05d59248\", element=\"053f6968-d6a0-43df-a257-24698c8ecb94\")>,\n",
       " <selenium.webdriver.remote.webelement.WebElement (session=\"88380876949436bda4e6af3d05d59248\", element=\"bd738c42-d5a8-46a5-bd7b-cb4b33090247\")>,\n",
       " <selenium.webdriver.remote.webelement.WebElement (session=\"88380876949436bda4e6af3d05d59248\", element=\"53fedb57-49fc-4ef3-b670-e51251ff3258\")>,\n",
       " <selenium.webdriver.remote.webelement.WebElement (session=\"88380876949436bda4e6af3d05d59248\", element=\"db7c45c8-2aae-488d-983c-7a8c2d3d9ebf\")>,\n",
       " <selenium.webdriver.remote.webelement.WebElement (session=\"88380876949436bda4e6af3d05d59248\", element=\"a4aeaab2-08d5-49ce-88c3-c8bd468b39ff\")>,\n",
       " <selenium.webdriver.remote.webelement.WebElement (session=\"88380876949436bda4e6af3d05d59248\", element=\"5468f3e6-1a76-4de9-80a5-66bded852e81\")>,\n",
       " <selenium.webdriver.remote.webelement.WebElement (session=\"88380876949436bda4e6af3d05d59248\", element=\"14ea2c1e-51ae-406c-a211-bbcc7596206b\")>,\n",
       " <selenium.webdriver.remote.webelement.WebElement (session=\"88380876949436bda4e6af3d05d59248\", element=\"824b1a88-3ec7-44a6-8559-21b85378d0e3\")>,\n",
       " <selenium.webdriver.remote.webelement.WebElement (session=\"88380876949436bda4e6af3d05d59248\", element=\"63335c57-5480-462e-a3c0-70720c511015\")>]"
      ]
     },
     "execution_count": 15,
     "metadata": {},
     "output_type": "execute_result"
    }
   ],
   "source": [
    "locations_tags=driver.find_elements_by_xpath(\"//li[@class='fleft grey-text br2 placeHolderLi location']/span\")\n",
    "locations_tags"
   ]
  },
  {
   "cell_type": "code",
   "execution_count": 38,
   "metadata": {},
   "outputs": [
    {
     "data": {
      "text/plain": [
       "['Mumbai, Hyderabad/Secunderabad, Pune, Gurgaon/Gurugram, Chennai, Bangalore/Bengaluru',\n",
       " 'Bangalore/Bengaluru',\n",
       " 'Mumbai, Bangalore/Bengaluru',\n",
       " 'Bangalore/Bengaluru',\n",
       " 'Bangalore/Bengaluru',\n",
       " 'Kolkata, Hyderabad/Secunderabad, Pune, Ahmedabad, Chennai, Bangalore/Bengaluru, Delhi / NCR, Mumbai (All Areas)',\n",
       " 'Bangalore/Bengaluru',\n",
       " 'Bangalore/Bengaluru',\n",
       " 'Bangalore/Bengaluru',\n",
       " 'Bangalore/Bengaluru',\n",
       " 'Bangalore/Bengaluru',\n",
       " 'Bangalore/Bengaluru',\n",
       " 'Kolkata, Pune, Chennai, Bangalore/Bengaluru, Delhi / NCR, Mumbai (All Areas)',\n",
       " 'Bangalore/Bengaluru',\n",
       " 'Bangalore/Bengaluru',\n",
       " 'Mumbai, Bangalore/Bengaluru',\n",
       " 'Chennai, Bangalore/Bengaluru',\n",
       " 'Bangalore/Bengaluru',\n",
       " 'Bangalore/Bengaluru',\n",
       " 'Bangalore/Bengaluru']"
      ]
     },
     "execution_count": 38,
     "metadata": {},
     "output_type": "execute_result"
    }
   ],
   "source": [
    "Locations=[]\n",
    "for i in locations_tags:\n",
    "    Locations.append(i.text)\n",
    "Locations"
   ]
  },
  {
   "cell_type": "code",
   "execution_count": 39,
   "metadata": {},
   "outputs": [
    {
     "name": "stdout",
     "output_type": "stream",
     "text": [
      "20 20 20 20\n"
     ]
    }
   ],
   "source": [
    "print(len(job_titles),len(company_names),len(Locations),len(Experience))"
   ]
  },
  {
   "cell_type": "code",
   "execution_count": 40,
   "metadata": {},
   "outputs": [],
   "source": [
    "job=pd.DataFrame({})\n",
    "job['title']=job_titles\n",
    "job['company']=company_names\n",
    "job['experience']=Experience\n",
    "job['location']=Locations"
   ]
  },
  {
   "cell_type": "code",
   "execution_count": 41,
   "metadata": {},
   "outputs": [
    {
     "data": {
      "text/html": [
       "<div>\n",
       "<style scoped>\n",
       "    .dataframe tbody tr th:only-of-type {\n",
       "        vertical-align: middle;\n",
       "    }\n",
       "\n",
       "    .dataframe tbody tr th {\n",
       "        vertical-align: top;\n",
       "    }\n",
       "\n",
       "    .dataframe thead th {\n",
       "        text-align: right;\n",
       "    }\n",
       "</style>\n",
       "<table border=\"1\" class=\"dataframe\">\n",
       "  <thead>\n",
       "    <tr style=\"text-align: right;\">\n",
       "      <th></th>\n",
       "      <th>title</th>\n",
       "      <th>company</th>\n",
       "      <th>experience</th>\n",
       "      <th>location</th>\n",
       "    </tr>\n",
       "  </thead>\n",
       "  <tbody>\n",
       "    <tr>\n",
       "      <th>0</th>\n",
       "      <td>Data Scientist / Data Analyst -Business Analyst</td>\n",
       "      <td>Inflexion Analytix Private Limited</td>\n",
       "      <td>0-3 Yrs</td>\n",
       "      <td>Mumbai, Hyderabad/Secunderabad, Pune, Gurgaon/...</td>\n",
       "    </tr>\n",
       "    <tr>\n",
       "      <th>1</th>\n",
       "      <td>Hiring Data Analysts For E commerce Platform |...</td>\n",
       "      <td>Allegis Services India Pvt. Ltd.</td>\n",
       "      <td>0-5 Yrs</td>\n",
       "      <td>Bangalore/Bengaluru</td>\n",
       "    </tr>\n",
       "    <tr>\n",
       "      <th>2</th>\n",
       "      <td>Assistant Vice President - MIS &amp; Reporting ( B...</td>\n",
       "      <td>INTERTRUSTVITEOS CORPORATE AND FUND SERVICES P...</td>\n",
       "      <td>12-18 Yrs</td>\n",
       "      <td>Mumbai, Bangalore/Bengaluru</td>\n",
       "    </tr>\n",
       "    <tr>\n",
       "      <th>3</th>\n",
       "      <td>Data Analyst</td>\n",
       "      <td>Applied Materials</td>\n",
       "      <td>7-10 Yrs</td>\n",
       "      <td>Bangalore/Bengaluru</td>\n",
       "    </tr>\n",
       "    <tr>\n",
       "      <th>4</th>\n",
       "      <td>Hiring For Data Analyst/ MIS Reporting Analyst...</td>\n",
       "      <td>PHARMACEUTICAL RESEARCH ASSOCIATES INDIA Pvt Ltd</td>\n",
       "      <td>2-4 Yrs</td>\n",
       "      <td>Bangalore/Bengaluru</td>\n",
       "    </tr>\n",
       "    <tr>\n",
       "      <th>5</th>\n",
       "      <td>DA - Urgent Opening For Data Analyst BFSI Doma...</td>\n",
       "      <td>Tata Consultancy Services Ltd.</td>\n",
       "      <td>4-9 Yrs</td>\n",
       "      <td>Kolkata, Hyderabad/Secunderabad, Pune, Ahmedab...</td>\n",
       "    </tr>\n",
       "    <tr>\n",
       "      <th>6</th>\n",
       "      <td>Data Analyst - Informatica MDM</td>\n",
       "      <td>Shell India Markets Private Limited</td>\n",
       "      <td>6-9 Yrs</td>\n",
       "      <td>Bangalore/Bengaluru</td>\n",
       "    </tr>\n",
       "    <tr>\n",
       "      <th>7</th>\n",
       "      <td>Data Analyst</td>\n",
       "      <td>Myntra Designs Pvt. Ltd.</td>\n",
       "      <td>3-6 Yrs</td>\n",
       "      <td>Bangalore/Bengaluru</td>\n",
       "    </tr>\n",
       "    <tr>\n",
       "      <th>8</th>\n",
       "      <td>Data Analyst</td>\n",
       "      <td>Myntra Designs Pvt. Ltd.</td>\n",
       "      <td>3-6 Yrs</td>\n",
       "      <td>Bangalore/Bengaluru</td>\n",
       "    </tr>\n",
       "    <tr>\n",
       "      <th>9</th>\n",
       "      <td>Data Analyst</td>\n",
       "      <td>Myntra Designs Pvt. Ltd.</td>\n",
       "      <td>4-9 Yrs</td>\n",
       "      <td>Bangalore/Bengaluru</td>\n",
       "    </tr>\n",
       "    <tr>\n",
       "      <th>10</th>\n",
       "      <td>Data Analyst</td>\n",
       "      <td>Myntra Designs Pvt. Ltd.</td>\n",
       "      <td>4-8 Yrs</td>\n",
       "      <td>Bangalore/Bengaluru</td>\n",
       "    </tr>\n",
       "    <tr>\n",
       "      <th>11</th>\n",
       "      <td>Data Analyst</td>\n",
       "      <td>Myntra Designs Pvt. Ltd.</td>\n",
       "      <td>3-6 Yrs</td>\n",
       "      <td>Bangalore/Bengaluru</td>\n",
       "    </tr>\n",
       "    <tr>\n",
       "      <th>12</th>\n",
       "      <td>Data Analyst</td>\n",
       "      <td>SA Tech Software (I) Pvt. Ltd.</td>\n",
       "      <td>1-3 Yrs</td>\n",
       "      <td>Kolkata, Pune, Chennai, Bangalore/Bengaluru, D...</td>\n",
       "    </tr>\n",
       "    <tr>\n",
       "      <th>13</th>\n",
       "      <td>Senior/Regular Business Analyst / Data Analyst</td>\n",
       "      <td>Luxoft</td>\n",
       "      <td>3-6 Yrs</td>\n",
       "      <td>Bangalore/Bengaluru</td>\n",
       "    </tr>\n",
       "    <tr>\n",
       "      <th>14</th>\n",
       "      <td>Data Analyst</td>\n",
       "      <td>IBM India Pvt. Limited</td>\n",
       "      <td>5-10 Yrs</td>\n",
       "      <td>Bangalore/Bengaluru</td>\n",
       "    </tr>\n",
       "    <tr>\n",
       "      <th>15</th>\n",
       "      <td>Business Data Analyst - MIS &amp; Reporting</td>\n",
       "      <td>INTERTRUST GROUP</td>\n",
       "      <td>3-8 Yrs</td>\n",
       "      <td>Mumbai, Bangalore/Bengaluru</td>\n",
       "    </tr>\n",
       "    <tr>\n",
       "      <th>16</th>\n",
       "      <td>Data Analyst / Business Analyst -</td>\n",
       "      <td>LatentView Analytics Private Limited</td>\n",
       "      <td>1-5 Yrs</td>\n",
       "      <td>Chennai, Bangalore/Bengaluru</td>\n",
       "    </tr>\n",
       "    <tr>\n",
       "      <th>17</th>\n",
       "      <td>Data Analyst</td>\n",
       "      <td>Udaan</td>\n",
       "      <td>1-6 Yrs</td>\n",
       "      <td>Bangalore/Bengaluru</td>\n",
       "    </tr>\n",
       "    <tr>\n",
       "      <th>18</th>\n",
       "      <td>Associate - Data Analyst ( Growth)</td>\n",
       "      <td>Myntra Designs Pvt. Ltd.</td>\n",
       "      <td>2-3 Yrs</td>\n",
       "      <td>Bangalore/Bengaluru</td>\n",
       "    </tr>\n",
       "    <tr>\n",
       "      <th>19</th>\n",
       "      <td>Data Analyst</td>\n",
       "      <td>Yodlee Infotech Private Limited</td>\n",
       "      <td>2-6 Yrs</td>\n",
       "      <td>Bangalore/Bengaluru</td>\n",
       "    </tr>\n",
       "  </tbody>\n",
       "</table>\n",
       "</div>"
      ],
      "text/plain": [
       "                                                title  \\\n",
       "0     Data Scientist / Data Analyst -Business Analyst   \n",
       "1   Hiring Data Analysts For E commerce Platform |...   \n",
       "2   Assistant Vice President - MIS & Reporting ( B...   \n",
       "3                                        Data Analyst   \n",
       "4   Hiring For Data Analyst/ MIS Reporting Analyst...   \n",
       "5   DA - Urgent Opening For Data Analyst BFSI Doma...   \n",
       "6                      Data Analyst - Informatica MDM   \n",
       "7                                        Data Analyst   \n",
       "8                                        Data Analyst   \n",
       "9                                        Data Analyst   \n",
       "10                                       Data Analyst   \n",
       "11                                       Data Analyst   \n",
       "12                                       Data Analyst   \n",
       "13     Senior/Regular Business Analyst / Data Analyst   \n",
       "14                                       Data Analyst   \n",
       "15            Business Data Analyst - MIS & Reporting   \n",
       "16                  Data Analyst / Business Analyst -   \n",
       "17                                       Data Analyst   \n",
       "18                 Associate - Data Analyst ( Growth)   \n",
       "19                                       Data Analyst   \n",
       "\n",
       "                                              company experience  \\\n",
       "0                  Inflexion Analytix Private Limited    0-3 Yrs   \n",
       "1                    Allegis Services India Pvt. Ltd.    0-5 Yrs   \n",
       "2   INTERTRUSTVITEOS CORPORATE AND FUND SERVICES P...  12-18 Yrs   \n",
       "3                                   Applied Materials   7-10 Yrs   \n",
       "4    PHARMACEUTICAL RESEARCH ASSOCIATES INDIA Pvt Ltd    2-4 Yrs   \n",
       "5                      Tata Consultancy Services Ltd.    4-9 Yrs   \n",
       "6                 Shell India Markets Private Limited    6-9 Yrs   \n",
       "7                            Myntra Designs Pvt. Ltd.    3-6 Yrs   \n",
       "8                            Myntra Designs Pvt. Ltd.    3-6 Yrs   \n",
       "9                            Myntra Designs Pvt. Ltd.    4-9 Yrs   \n",
       "10                           Myntra Designs Pvt. Ltd.    4-8 Yrs   \n",
       "11                           Myntra Designs Pvt. Ltd.    3-6 Yrs   \n",
       "12                     SA Tech Software (I) Pvt. Ltd.    1-3 Yrs   \n",
       "13                                             Luxoft    3-6 Yrs   \n",
       "14                             IBM India Pvt. Limited   5-10 Yrs   \n",
       "15                                   INTERTRUST GROUP    3-8 Yrs   \n",
       "16               LatentView Analytics Private Limited    1-5 Yrs   \n",
       "17                                              Udaan    1-6 Yrs   \n",
       "18                           Myntra Designs Pvt. Ltd.    2-3 Yrs   \n",
       "19                    Yodlee Infotech Private Limited    2-6 Yrs   \n",
       "\n",
       "                                             location  \n",
       "0   Mumbai, Hyderabad/Secunderabad, Pune, Gurgaon/...  \n",
       "1                                 Bangalore/Bengaluru  \n",
       "2                         Mumbai, Bangalore/Bengaluru  \n",
       "3                                 Bangalore/Bengaluru  \n",
       "4                                 Bangalore/Bengaluru  \n",
       "5   Kolkata, Hyderabad/Secunderabad, Pune, Ahmedab...  \n",
       "6                                 Bangalore/Bengaluru  \n",
       "7                                 Bangalore/Bengaluru  \n",
       "8                                 Bangalore/Bengaluru  \n",
       "9                                 Bangalore/Bengaluru  \n",
       "10                                Bangalore/Bengaluru  \n",
       "11                                Bangalore/Bengaluru  \n",
       "12  Kolkata, Pune, Chennai, Bangalore/Bengaluru, D...  \n",
       "13                                Bangalore/Bengaluru  \n",
       "14                                Bangalore/Bengaluru  \n",
       "15                        Mumbai, Bangalore/Bengaluru  \n",
       "16                       Chennai, Bangalore/Bengaluru  \n",
       "17                                Bangalore/Bengaluru  \n",
       "18                                Bangalore/Bengaluru  \n",
       "19                                Bangalore/Bengaluru  "
      ]
     },
     "execution_count": 41,
     "metadata": {},
     "output_type": "execute_result"
    }
   ],
   "source": [
    "job"
   ]
  },
  {
   "cell_type": "code",
   "execution_count": null,
   "metadata": {},
   "outputs": [],
   "source": []
  }
 ],
 "metadata": {
  "kernelspec": {
   "display_name": "Python 3",
   "language": "python",
   "name": "python3"
  },
  "language_info": {
   "codemirror_mode": {
    "name": "ipython",
    "version": 3
   },
   "file_extension": ".py",
   "mimetype": "text/x-python",
   "name": "python",
   "nbconvert_exporter": "python",
   "pygments_lexer": "ipython3",
   "version": "3.8.3"
  }
 },
 "nbformat": 4,
 "nbformat_minor": 4
}
