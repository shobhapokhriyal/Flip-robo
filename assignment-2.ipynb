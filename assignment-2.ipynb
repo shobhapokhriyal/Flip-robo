{
 "cells": [
  {
   "cell_type": "code",
   "execution_count": 32,
   "metadata": {},
   "outputs": [],
   "source": [
    "import selenium\n",
    "import pandas as pd\n",
    "from selenium import webdriver\n",
    "import time"
   ]
  },
  {
   "cell_type": "code",
   "execution_count": 33,
   "metadata": {},
   "outputs": [],
   "source": [
    "driver= webdriver.Chrome(r\"C:\\Users\\shobh\\Downloads\\chromedriver_win32\\chromedriver.exe\")"
   ]
  },
  {
   "cell_type": "code",
   "execution_count": 34,
   "metadata": {},
   "outputs": [],
   "source": [
    "driver.get('https://www.naukri.com/')"
   ]
  },
  {
   "cell_type": "code",
   "execution_count": 35,
   "metadata": {},
   "outputs": [
    {
     "data": {
      "text/plain": [
       "<selenium.webdriver.remote.webelement.WebElement (session=\"bee9b88d0c1cc246d867490f48e2015c\", element=\"97bb131e-d624-4cac-891d-77f3bf1b81ac\")>"
      ]
     },
     "execution_count": 35,
     "metadata": {},
     "output_type": "execute_result"
    }
   ],
   "source": [
    "search_job=driver.find_element_by_id('qsb-keyword-sugg')\n",
    "search_job"
   ]
  },
  {
   "cell_type": "code",
   "execution_count": 36,
   "metadata": {},
   "outputs": [],
   "source": [
    "search_job.send_keys(\"Data Scientist\")"
   ]
  },
  {
   "cell_type": "code",
   "execution_count": 37,
   "metadata": {},
   "outputs": [],
   "source": [
    "search_loc= driver.find_element_by_id(\"qsb-location-sugg\")\n",
    "search_loc.send_keys(\"Bangalore\")"
   ]
  },
  {
   "cell_type": "code",
   "execution_count": 38,
   "metadata": {},
   "outputs": [],
   "source": [
    "search_btn=driver.find_element_by_xpath(\"//button[@class='btn']\")\n",
    "search_btn.click()"
   ]
  },
  {
   "cell_type": "code",
   "execution_count": 50,
   "metadata": {},
   "outputs": [],
   "source": [
    "\n",
    "    titles=driver.find_elements_by_xpath(\"//a [@class='title fw500 ellipsis']\")\n",
    "    companies=driver.find_elements_by_xpath(\"//a [@class='subTitle ellipsis fleft']\")\n",
    "    locations=driver.find_elements_by_xpath(\"//li[@class='fleft grey-text br2 placeHolderLi location']/span\")\n",
    "    JD=driver.find_elements_by_xpath(\"//div[@class='job-description fs12 grey-text']\")\n",
    "    \n",
    "    for i in range(len(titles)):\n",
    "        (titles[i].text + \";\" +companies[i].text+ \";\"+locations[i].text+ \";\"+JD[i].text+\"\\n\")\n",
    "    "
   ]
  },
  {
   "cell_type": "code",
   "execution_count": 59,
   "metadata": {},
   "outputs": [
    {
     "data": {
      "text/plain": [
       "['Data Scientist / Data Analyst -Business Analyst',\n",
       " 'Senior Data Scientist, Modeling',\n",
       " 'Big Data - Data Scientist',\n",
       " 'Specialist I - Data Scientist',\n",
       " 'Data Scientist',\n",
       " 'Lead Data Scientist',\n",
       " 'Data Scientist',\n",
       " 'SDE Lead Data Scientist-L3',\n",
       " 'Computational Design Lead Data Scientist-L3',\n",
       " 'Hiring For DATA Scientist - ON Contract Basis (3-6 Months)',\n",
       " 'Senior Data Scientist',\n",
       " 'Senior Data Scientist - Chatbot & NLP',\n",
       " 'Senior Data Scientist - Chatbot & NLP',\n",
       " 'Senior Data Scientist',\n",
       " 'Sr. Data Scientist',\n",
       " 'Senior Data Scientist',\n",
       " 'Senior Associate/Team Lead - Data Scientist Consulting',\n",
       " 'Senior Data Scientist, Marketing Analytics',\n",
       " 'Data Scientist',\n",
       " 'Hiring For Lead data Scientist For Bangalore location']"
      ]
     },
     "execution_count": 59,
     "metadata": {},
     "output_type": "execute_result"
    }
   ],
   "source": [
    "job_titles=[]\n",
    "for i in titles:\n",
    "    job_titles.append(i.text)\n",
    "job_titles"
   ]
  },
  {
   "cell_type": "code",
   "execution_count": 53,
   "metadata": {},
   "outputs": [
    {
     "data": {
      "text/plain": [
       "['Inflexion Analytix Private Limited',\n",
       " 'Nielsen',\n",
       " 'Xoriant Solutions Pvt Ltd',\n",
       " 'Philips India Limited',\n",
       " 'IBM India Pvt. Limited',\n",
       " 'Intel Technology India Pvt Ltd',\n",
       " 'Oracle India Pvt. Ltd.',\n",
       " 'Huawei Technologies India Pvt Ltd',\n",
       " 'Huawei Technologies India Pvt Ltd',\n",
       " 'GlobalEdx Learning and Technology Solution Pvt Ltd',\n",
       " 'GO-JEK India',\n",
       " 'Gojek Tech',\n",
       " 'GO-JEK India',\n",
       " 'nanobi data and analytics private limited',\n",
       " 'VALIANCE ANALYTICS PRIVATE LIMITED',\n",
       " 'BankBazaar.com (A&A DUKAAN FINANCIAL SERVICES PVT. LTD)',\n",
       " 'Analytics India Magazine',\n",
       " 'Hudsons Bay Company',\n",
       " 'Applied Materials',\n",
       " 'Societe Generale']"
      ]
     },
     "execution_count": 53,
     "metadata": {},
     "output_type": "execute_result"
    }
   ],
   "source": [
    "job_companies=[]\n",
    "for i in companies:\n",
    "    job_companies.append(i.text)\n",
    "job_companies"
   ]
  },
  {
   "cell_type": "code",
   "execution_count": 54,
   "metadata": {},
   "outputs": [
    {
     "data": {
      "text/plain": [
       "['Mumbai, Hyderabad/Secunderabad, Pune, Gurgaon/Gurugram, Chennai, Bangalore/Bengaluru',\n",
       " 'Kolkata, Gurgaon/Gurugram, Bangalore/Bengaluru, Vadodara, Mumbai (All Areas)',\n",
       " 'Kochi/Cochin, Indore, Hyderabad/Secunderabad, Pune, Ahmedabad, Bangalore/Bengaluru, Mumbai (All Areas)',\n",
       " 'Bangalore/Bengaluru',\n",
       " 'Bangalore/Bengaluru',\n",
       " 'Bangalore/Bengaluru',\n",
       " 'Bangalore/Bengaluru',\n",
       " 'Bangalore/Bengaluru',\n",
       " 'Bangalore/Bengaluru',\n",
       " 'Hyderabad/Secunderabad, Bangalore/Bengaluru, Mumbai (All Areas)',\n",
       " 'Bangalore/Bengaluru',\n",
       " 'Bangalore/Bengaluru',\n",
       " 'Bangalore/Bengaluru',\n",
       " 'Bangalore/Bengaluru',\n",
       " 'Bangalore/Bengaluru, Delhi / NCR',\n",
       " 'Bangalore/Bengaluru',\n",
       " 'Bangalore/Bengaluru',\n",
       " 'Bangalore/Bengaluru',\n",
       " 'Bangalore/Bengaluru',\n",
       " 'Bangalore/Bengaluru']"
      ]
     },
     "execution_count": 54,
     "metadata": {},
     "output_type": "execute_result"
    }
   ],
   "source": [
    "job_locations=[]\n",
    "for i in locations:\n",
    "    job_locations.append(i.text)\n",
    "job_locations"
   ]
  },
  {
   "cell_type": "code",
   "execution_count": 55,
   "metadata": {},
   "outputs": [
    {
     "data": {
      "text/plain": [
       "['Applications invited from all Freshers and experienced candidates (0-3 yrs) aspiring to...',\n",
       " 'Masters degree in Economics, Mathematics, Statistics, Engineering 5 years of relevant e...',\n",
       " 'High motivation, good work ethic and maturityMinimum 1-3 yrs of proven project experien...',\n",
       " 'Responsibilities and Key Result Areas Design and develop project prototypes and solutio...',\n",
       " 'modeling and business system design with experience in relational SQL and NoSQL databas...',\n",
       " 'Experience in using data analysis techniques and ML methods like classification, regres...',\n",
       " 'Roles and Responsibilities Looking for 6+ yrs of experience in data science, predictive...',\n",
       " 'Strong hands-on experience in implementing and validating big data algorithms and model...',\n",
       " 'Business & Team overview:Founded in 1987, Huawei is a leading global provider of ICT (i...',\n",
       " 'Experience : 3+ Years',\n",
       " 'About the Role Fasten your helmet and climb on board if youre ready to be our Senior Da...',\n",
       " 'Solid knowledge of Data Science and Machine Learning fundamentals, with proven experien...',\n",
       " 'Solid knowledge of Data Science and Machine Learning fundamentals, with proven experien...',\n",
       " 'These will be across industries and functions and must be designed generically to handl...',\n",
       " 'Programming Language: Python / SQL (Must)',\n",
       " 'Preferable to have Masters in a numerate subject such as Mathematics, Operational Resea...',\n",
       " 'We should also let you know we put a premium on a few personality traits: - You are a p...',\n",
       " 'Work with other members of the Marketing and Tech teams including Data, Analytics, and ...',\n",
       " 'Education: Bachelors Degree analyzes possible solutions using technical experience and ...',\n",
       " 'We are hiring for Lead data Scientist for Bangalore location Skills and QualificationsB...']"
      ]
     },
     "execution_count": 55,
     "metadata": {},
     "output_type": "execute_result"
    }
   ],
   "source": [
    "job_JD=[]\n",
    "for i in JD:\n",
    "    job_JD.append(i.text)\n",
    "job_JD"
   ]
  },
  {
   "cell_type": "code",
   "execution_count": 56,
   "metadata": {},
   "outputs": [
    {
     "name": "stdout",
     "output_type": "stream",
     "text": [
      "20 20 20 20\n"
     ]
    }
   ],
   "source": [
    "print(len(job_titles),len(job_companies),len(job_locations),len(job_JD))"
   ]
  },
  {
   "cell_type": "code",
   "execution_count": 60,
   "metadata": {},
   "outputs": [],
   "source": [
    "job=pd.DataFrame({})\n",
    "job['Title']=job_titles\n",
    "job['Company']=job_companies\n",
    "job['Location']=job_locations\n",
    "job['Job_desc']=job_JD"
   ]
  },
  {
   "cell_type": "code",
   "execution_count": 61,
   "metadata": {},
   "outputs": [
    {
     "data": {
      "text/html": [
       "<div>\n",
       "<style scoped>\n",
       "    .dataframe tbody tr th:only-of-type {\n",
       "        vertical-align: middle;\n",
       "    }\n",
       "\n",
       "    .dataframe tbody tr th {\n",
       "        vertical-align: top;\n",
       "    }\n",
       "\n",
       "    .dataframe thead th {\n",
       "        text-align: right;\n",
       "    }\n",
       "</style>\n",
       "<table border=\"1\" class=\"dataframe\">\n",
       "  <thead>\n",
       "    <tr style=\"text-align: right;\">\n",
       "      <th></th>\n",
       "      <th>Title</th>\n",
       "      <th>Company</th>\n",
       "      <th>Location</th>\n",
       "      <th>Job_desc</th>\n",
       "    </tr>\n",
       "  </thead>\n",
       "  <tbody>\n",
       "    <tr>\n",
       "      <th>0</th>\n",
       "      <td>Data Scientist / Data Analyst -Business Analyst</td>\n",
       "      <td>Inflexion Analytix Private Limited</td>\n",
       "      <td>Mumbai, Hyderabad/Secunderabad, Pune, Gurgaon/...</td>\n",
       "      <td>Applications invited from all Freshers and exp...</td>\n",
       "    </tr>\n",
       "    <tr>\n",
       "      <th>1</th>\n",
       "      <td>Senior Data Scientist, Modeling</td>\n",
       "      <td>Nielsen</td>\n",
       "      <td>Kolkata, Gurgaon/Gurugram, Bangalore/Bengaluru...</td>\n",
       "      <td>Masters degree in Economics, Mathematics, Stat...</td>\n",
       "    </tr>\n",
       "    <tr>\n",
       "      <th>2</th>\n",
       "      <td>Big Data - Data Scientist</td>\n",
       "      <td>Xoriant Solutions Pvt Ltd</td>\n",
       "      <td>Kochi/Cochin, Indore, Hyderabad/Secunderabad, ...</td>\n",
       "      <td>High motivation, good work ethic and maturityM...</td>\n",
       "    </tr>\n",
       "    <tr>\n",
       "      <th>3</th>\n",
       "      <td>Specialist I - Data Scientist</td>\n",
       "      <td>Philips India Limited</td>\n",
       "      <td>Bangalore/Bengaluru</td>\n",
       "      <td>Responsibilities and Key Result Areas Design a...</td>\n",
       "    </tr>\n",
       "    <tr>\n",
       "      <th>4</th>\n",
       "      <td>Data Scientist</td>\n",
       "      <td>IBM India Pvt. Limited</td>\n",
       "      <td>Bangalore/Bengaluru</td>\n",
       "      <td>modeling and business system design with exper...</td>\n",
       "    </tr>\n",
       "    <tr>\n",
       "      <th>5</th>\n",
       "      <td>Lead Data Scientist</td>\n",
       "      <td>Intel Technology India Pvt Ltd</td>\n",
       "      <td>Bangalore/Bengaluru</td>\n",
       "      <td>Experience in using data analysis techniques a...</td>\n",
       "    </tr>\n",
       "    <tr>\n",
       "      <th>6</th>\n",
       "      <td>Data Scientist</td>\n",
       "      <td>Oracle India Pvt. Ltd.</td>\n",
       "      <td>Bangalore/Bengaluru</td>\n",
       "      <td>Roles and Responsibilities Looking for 6+ yrs ...</td>\n",
       "    </tr>\n",
       "    <tr>\n",
       "      <th>7</th>\n",
       "      <td>SDE Lead Data Scientist-L3</td>\n",
       "      <td>Huawei Technologies India Pvt Ltd</td>\n",
       "      <td>Bangalore/Bengaluru</td>\n",
       "      <td>Strong hands-on experience in implementing and...</td>\n",
       "    </tr>\n",
       "    <tr>\n",
       "      <th>8</th>\n",
       "      <td>Computational Design Lead Data Scientist-L3</td>\n",
       "      <td>Huawei Technologies India Pvt Ltd</td>\n",
       "      <td>Bangalore/Bengaluru</td>\n",
       "      <td>Business &amp; Team overview:Founded in 1987, Huaw...</td>\n",
       "    </tr>\n",
       "    <tr>\n",
       "      <th>9</th>\n",
       "      <td>Hiring For DATA Scientist - ON Contract Basis ...</td>\n",
       "      <td>GlobalEdx Learning and Technology Solution Pvt...</td>\n",
       "      <td>Hyderabad/Secunderabad, Bangalore/Bengaluru, M...</td>\n",
       "      <td>Experience : 3+ Years</td>\n",
       "    </tr>\n",
       "    <tr>\n",
       "      <th>10</th>\n",
       "      <td>Senior Data Scientist</td>\n",
       "      <td>GO-JEK India</td>\n",
       "      <td>Bangalore/Bengaluru</td>\n",
       "      <td>About the Role Fasten your helmet and climb on...</td>\n",
       "    </tr>\n",
       "    <tr>\n",
       "      <th>11</th>\n",
       "      <td>Senior Data Scientist - Chatbot &amp; NLP</td>\n",
       "      <td>Gojek Tech</td>\n",
       "      <td>Bangalore/Bengaluru</td>\n",
       "      <td>Solid knowledge of Data Science and Machine Le...</td>\n",
       "    </tr>\n",
       "    <tr>\n",
       "      <th>12</th>\n",
       "      <td>Senior Data Scientist - Chatbot &amp; NLP</td>\n",
       "      <td>GO-JEK India</td>\n",
       "      <td>Bangalore/Bengaluru</td>\n",
       "      <td>Solid knowledge of Data Science and Machine Le...</td>\n",
       "    </tr>\n",
       "    <tr>\n",
       "      <th>13</th>\n",
       "      <td>Senior Data Scientist</td>\n",
       "      <td>nanobi data and analytics private limited</td>\n",
       "      <td>Bangalore/Bengaluru</td>\n",
       "      <td>These will be across industries and functions ...</td>\n",
       "    </tr>\n",
       "    <tr>\n",
       "      <th>14</th>\n",
       "      <td>Sr. Data Scientist</td>\n",
       "      <td>VALIANCE ANALYTICS PRIVATE LIMITED</td>\n",
       "      <td>Bangalore/Bengaluru, Delhi / NCR</td>\n",
       "      <td>Programming Language: Python / SQL (Must)</td>\n",
       "    </tr>\n",
       "    <tr>\n",
       "      <th>15</th>\n",
       "      <td>Senior Data Scientist</td>\n",
       "      <td>BankBazaar.com (A&amp;A DUKAAN FINANCIAL SERVICES ...</td>\n",
       "      <td>Bangalore/Bengaluru</td>\n",
       "      <td>Preferable to have Masters in a numerate subje...</td>\n",
       "    </tr>\n",
       "    <tr>\n",
       "      <th>16</th>\n",
       "      <td>Senior Associate/Team Lead - Data Scientist Co...</td>\n",
       "      <td>Analytics India Magazine</td>\n",
       "      <td>Bangalore/Bengaluru</td>\n",
       "      <td>We should also let you know we put a premium o...</td>\n",
       "    </tr>\n",
       "    <tr>\n",
       "      <th>17</th>\n",
       "      <td>Senior Data Scientist, Marketing Analytics</td>\n",
       "      <td>Hudsons Bay Company</td>\n",
       "      <td>Bangalore/Bengaluru</td>\n",
       "      <td>Work with other members of the Marketing and T...</td>\n",
       "    </tr>\n",
       "    <tr>\n",
       "      <th>18</th>\n",
       "      <td>Data Scientist</td>\n",
       "      <td>Applied Materials</td>\n",
       "      <td>Bangalore/Bengaluru</td>\n",
       "      <td>Education: Bachelors Degree analyzes possible ...</td>\n",
       "    </tr>\n",
       "    <tr>\n",
       "      <th>19</th>\n",
       "      <td>Hiring For Lead data Scientist For Bangalore l...</td>\n",
       "      <td>Societe Generale</td>\n",
       "      <td>Bangalore/Bengaluru</td>\n",
       "      <td>We are hiring for Lead data Scientist for Bang...</td>\n",
       "    </tr>\n",
       "  </tbody>\n",
       "</table>\n",
       "</div>"
      ],
      "text/plain": [
       "                                                Title  \\\n",
       "0     Data Scientist / Data Analyst -Business Analyst   \n",
       "1                     Senior Data Scientist, Modeling   \n",
       "2                           Big Data - Data Scientist   \n",
       "3                       Specialist I - Data Scientist   \n",
       "4                                      Data Scientist   \n",
       "5                                 Lead Data Scientist   \n",
       "6                                      Data Scientist   \n",
       "7                          SDE Lead Data Scientist-L3   \n",
       "8         Computational Design Lead Data Scientist-L3   \n",
       "9   Hiring For DATA Scientist - ON Contract Basis ...   \n",
       "10                              Senior Data Scientist   \n",
       "11              Senior Data Scientist - Chatbot & NLP   \n",
       "12              Senior Data Scientist - Chatbot & NLP   \n",
       "13                              Senior Data Scientist   \n",
       "14                                 Sr. Data Scientist   \n",
       "15                              Senior Data Scientist   \n",
       "16  Senior Associate/Team Lead - Data Scientist Co...   \n",
       "17         Senior Data Scientist, Marketing Analytics   \n",
       "18                                     Data Scientist   \n",
       "19  Hiring For Lead data Scientist For Bangalore l...   \n",
       "\n",
       "                                              Company  \\\n",
       "0                  Inflexion Analytix Private Limited   \n",
       "1                                             Nielsen   \n",
       "2                           Xoriant Solutions Pvt Ltd   \n",
       "3                               Philips India Limited   \n",
       "4                              IBM India Pvt. Limited   \n",
       "5                      Intel Technology India Pvt Ltd   \n",
       "6                              Oracle India Pvt. Ltd.   \n",
       "7                   Huawei Technologies India Pvt Ltd   \n",
       "8                   Huawei Technologies India Pvt Ltd   \n",
       "9   GlobalEdx Learning and Technology Solution Pvt...   \n",
       "10                                       GO-JEK India   \n",
       "11                                         Gojek Tech   \n",
       "12                                       GO-JEK India   \n",
       "13          nanobi data and analytics private limited   \n",
       "14                 VALIANCE ANALYTICS PRIVATE LIMITED   \n",
       "15  BankBazaar.com (A&A DUKAAN FINANCIAL SERVICES ...   \n",
       "16                           Analytics India Magazine   \n",
       "17                                Hudsons Bay Company   \n",
       "18                                  Applied Materials   \n",
       "19                                   Societe Generale   \n",
       "\n",
       "                                             Location  \\\n",
       "0   Mumbai, Hyderabad/Secunderabad, Pune, Gurgaon/...   \n",
       "1   Kolkata, Gurgaon/Gurugram, Bangalore/Bengaluru...   \n",
       "2   Kochi/Cochin, Indore, Hyderabad/Secunderabad, ...   \n",
       "3                                 Bangalore/Bengaluru   \n",
       "4                                 Bangalore/Bengaluru   \n",
       "5                                 Bangalore/Bengaluru   \n",
       "6                                 Bangalore/Bengaluru   \n",
       "7                                 Bangalore/Bengaluru   \n",
       "8                                 Bangalore/Bengaluru   \n",
       "9   Hyderabad/Secunderabad, Bangalore/Bengaluru, M...   \n",
       "10                                Bangalore/Bengaluru   \n",
       "11                                Bangalore/Bengaluru   \n",
       "12                                Bangalore/Bengaluru   \n",
       "13                                Bangalore/Bengaluru   \n",
       "14                   Bangalore/Bengaluru, Delhi / NCR   \n",
       "15                                Bangalore/Bengaluru   \n",
       "16                                Bangalore/Bengaluru   \n",
       "17                                Bangalore/Bengaluru   \n",
       "18                                Bangalore/Bengaluru   \n",
       "19                                Bangalore/Bengaluru   \n",
       "\n",
       "                                             Job_desc  \n",
       "0   Applications invited from all Freshers and exp...  \n",
       "1   Masters degree in Economics, Mathematics, Stat...  \n",
       "2   High motivation, good work ethic and maturityM...  \n",
       "3   Responsibilities and Key Result Areas Design a...  \n",
       "4   modeling and business system design with exper...  \n",
       "5   Experience in using data analysis techniques a...  \n",
       "6   Roles and Responsibilities Looking for 6+ yrs ...  \n",
       "7   Strong hands-on experience in implementing and...  \n",
       "8   Business & Team overview:Founded in 1987, Huaw...  \n",
       "9                               Experience : 3+ Years  \n",
       "10  About the Role Fasten your helmet and climb on...  \n",
       "11  Solid knowledge of Data Science and Machine Le...  \n",
       "12  Solid knowledge of Data Science and Machine Le...  \n",
       "13  These will be across industries and functions ...  \n",
       "14          Programming Language: Python / SQL (Must)  \n",
       "15  Preferable to have Masters in a numerate subje...  \n",
       "16  We should also let you know we put a premium o...  \n",
       "17  Work with other members of the Marketing and T...  \n",
       "18  Education: Bachelors Degree analyzes possible ...  \n",
       "19  We are hiring for Lead data Scientist for Bang...  "
      ]
     },
     "execution_count": 61,
     "metadata": {},
     "output_type": "execute_result"
    }
   ],
   "source": [
    "job"
   ]
  },
  {
   "cell_type": "code",
   "execution_count": null,
   "metadata": {},
   "outputs": [],
   "source": []
  }
 ],
 "metadata": {
  "kernelspec": {
   "display_name": "Python 3",
   "language": "python",
   "name": "python3"
  },
  "language_info": {
   "codemirror_mode": {
    "name": "ipython",
    "version": 3
   },
   "file_extension": ".py",
   "mimetype": "text/x-python",
   "name": "python",
   "nbconvert_exporter": "python",
   "pygments_lexer": "ipython3",
   "version": "3.8.3"
  }
 },
 "nbformat": 4,
 "nbformat_minor": 4
}
