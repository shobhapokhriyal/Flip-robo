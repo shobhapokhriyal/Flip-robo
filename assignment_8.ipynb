{
 "cells": [
  {
   "cell_type": "code",
   "execution_count": 1,
   "metadata": {},
   "outputs": [],
   "source": [
    "import selenium\n",
    "import pandas as pd\n",
    "from selenium import webdriver"
   ]
  },
  {
   "cell_type": "code",
   "execution_count": 2,
   "metadata": {},
   "outputs": [],
   "source": [
    "driver= webdriver.Chrome(r\"C:\\Users\\shobh\\Downloads\\chromedriver_win32\\chromedriver.exe\")"
   ]
  },
  {
   "cell_type": "code",
   "execution_count": 4,
   "metadata": {},
   "outputs": [],
   "source": [
    "driver.get('https://www.flipkart.com/')"
   ]
  },
  {
   "cell_type": "code",
   "execution_count": 5,
   "metadata": {},
   "outputs": [
    {
     "data": {
      "text/plain": [
       "<selenium.webdriver.remote.webelement.WebElement (session=\"f616cb609bb6255a2bdd953e1dbd13d4\", element=\"2e680429-5570-4f5c-be80-af5b6e6e2685\")>"
      ]
     },
     "execution_count": 5,
     "metadata": {},
     "output_type": "execute_result"
    }
   ],
   "source": [
    "search_sneakers=driver.find_element_by_name('q')\n",
    "search_sneakers"
   ]
  },
  {
   "cell_type": "code",
   "execution_count": 6,
   "metadata": {},
   "outputs": [],
   "source": [
    "search_sneakers.send_keys(\"sneakers\")"
   ]
  },
  {
   "cell_type": "code",
   "execution_count": 7,
   "metadata": {},
   "outputs": [],
   "source": [
    "search_btn=driver.find_element_by_xpath(\"//button[@class='L0Z3Pu']\")\n",
    "search_btn.click()"
   ]
  },
  {
   "cell_type": "code",
   "execution_count": 27,
   "metadata": {},
   "outputs": [
    {
     "data": {
      "text/plain": [
       "[<selenium.webdriver.remote.webelement.WebElement (session=\"f616cb609bb6255a2bdd953e1dbd13d4\", element=\"bf7f2768-93bd-4ea4-885f-0fb2db63dfe4\")>,\n",
       " <selenium.webdriver.remote.webelement.WebElement (session=\"f616cb609bb6255a2bdd953e1dbd13d4\", element=\"c64c4928-e560-483c-b5d0-d1854769a7a5\")>,\n",
       " <selenium.webdriver.remote.webelement.WebElement (session=\"f616cb609bb6255a2bdd953e1dbd13d4\", element=\"14fa258b-fc34-4c6a-b4f6-0620b18670db\")>,\n",
       " <selenium.webdriver.remote.webelement.WebElement (session=\"f616cb609bb6255a2bdd953e1dbd13d4\", element=\"87c0dfea-780a-4d85-a322-3266125e5e53\")>,\n",
       " <selenium.webdriver.remote.webelement.WebElement (session=\"f616cb609bb6255a2bdd953e1dbd13d4\", element=\"ad4e6e85-152b-4447-a105-9e8af0d12875\")>,\n",
       " <selenium.webdriver.remote.webelement.WebElement (session=\"f616cb609bb6255a2bdd953e1dbd13d4\", element=\"9e07ddc4-bc85-45e4-bc5c-ada98d58683c\")>,\n",
       " <selenium.webdriver.remote.webelement.WebElement (session=\"f616cb609bb6255a2bdd953e1dbd13d4\", element=\"927d1c33-097b-4828-8042-432adaee6aa0\")>,\n",
       " <selenium.webdriver.remote.webelement.WebElement (session=\"f616cb609bb6255a2bdd953e1dbd13d4\", element=\"08b06dec-9694-4209-ad1a-afe6df36cf52\")>,\n",
       " <selenium.webdriver.remote.webelement.WebElement (session=\"f616cb609bb6255a2bdd953e1dbd13d4\", element=\"013dc6ba-0c44-44a0-a8b4-f9672c0cd4ba\")>,\n",
       " <selenium.webdriver.remote.webelement.WebElement (session=\"f616cb609bb6255a2bdd953e1dbd13d4\", element=\"b1b539c4-a6ef-48ba-9350-d68dc6928b3d\")>,\n",
       " <selenium.webdriver.remote.webelement.WebElement (session=\"f616cb609bb6255a2bdd953e1dbd13d4\", element=\"c3f43103-9fdf-4559-b9c6-cf0b9a49c3b2\")>,\n",
       " <selenium.webdriver.remote.webelement.WebElement (session=\"f616cb609bb6255a2bdd953e1dbd13d4\", element=\"2705714c-f5ce-4933-9391-10737fbe250f\")>,\n",
       " <selenium.webdriver.remote.webelement.WebElement (session=\"f616cb609bb6255a2bdd953e1dbd13d4\", element=\"10346acd-778c-472e-991f-d8bae42ed966\")>,\n",
       " <selenium.webdriver.remote.webelement.WebElement (session=\"f616cb609bb6255a2bdd953e1dbd13d4\", element=\"d4efb83c-1ba0-46ff-b57f-0ccc82c9aa23\")>,\n",
       " <selenium.webdriver.remote.webelement.WebElement (session=\"f616cb609bb6255a2bdd953e1dbd13d4\", element=\"78505f5f-b1f4-4401-a294-cd46a5f6ec66\")>,\n",
       " <selenium.webdriver.remote.webelement.WebElement (session=\"f616cb609bb6255a2bdd953e1dbd13d4\", element=\"1d81b7c1-8d94-4672-805e-4c39e04d3126\")>,\n",
       " <selenium.webdriver.remote.webelement.WebElement (session=\"f616cb609bb6255a2bdd953e1dbd13d4\", element=\"fd23c309-3fa0-4eae-9c3e-c03b0a3c1828\")>,\n",
       " <selenium.webdriver.remote.webelement.WebElement (session=\"f616cb609bb6255a2bdd953e1dbd13d4\", element=\"64f15e37-98d4-4d8f-a07d-83daf8c0df72\")>,\n",
       " <selenium.webdriver.remote.webelement.WebElement (session=\"f616cb609bb6255a2bdd953e1dbd13d4\", element=\"ce5416c5-bd9d-4e9d-88da-5370a418f022\")>,\n",
       " <selenium.webdriver.remote.webelement.WebElement (session=\"f616cb609bb6255a2bdd953e1dbd13d4\", element=\"6340e037-51b5-4925-941d-56eab11b466b\")>,\n",
       " <selenium.webdriver.remote.webelement.WebElement (session=\"f616cb609bb6255a2bdd953e1dbd13d4\", element=\"7096bab4-bdcb-422a-a9a5-5d052322add8\")>,\n",
       " <selenium.webdriver.remote.webelement.WebElement (session=\"f616cb609bb6255a2bdd953e1dbd13d4\", element=\"70ff4bd1-0315-4441-b6df-6fa5ab63aefe\")>,\n",
       " <selenium.webdriver.remote.webelement.WebElement (session=\"f616cb609bb6255a2bdd953e1dbd13d4\", element=\"8dad0835-1d2e-4fab-ac28-9ae796653ffc\")>,\n",
       " <selenium.webdriver.remote.webelement.WebElement (session=\"f616cb609bb6255a2bdd953e1dbd13d4\", element=\"a0bbf3cd-d821-497f-9a00-aae399540256\")>,\n",
       " <selenium.webdriver.remote.webelement.WebElement (session=\"f616cb609bb6255a2bdd953e1dbd13d4\", element=\"18f87dad-e9b9-4fc5-b428-5607de8a6ec4\")>,\n",
       " <selenium.webdriver.remote.webelement.WebElement (session=\"f616cb609bb6255a2bdd953e1dbd13d4\", element=\"bcfd52bf-b78d-4501-96b6-20586163deae\")>,\n",
       " <selenium.webdriver.remote.webelement.WebElement (session=\"f616cb609bb6255a2bdd953e1dbd13d4\", element=\"28e39901-cd9e-47ed-bcf5-f40cbb95465e\")>,\n",
       " <selenium.webdriver.remote.webelement.WebElement (session=\"f616cb609bb6255a2bdd953e1dbd13d4\", element=\"96233fda-7aa3-43ea-94cf-c7e27e951e56\")>,\n",
       " <selenium.webdriver.remote.webelement.WebElement (session=\"f616cb609bb6255a2bdd953e1dbd13d4\", element=\"27679843-f1c2-4b12-aba4-15ec3ed5985c\")>,\n",
       " <selenium.webdriver.remote.webelement.WebElement (session=\"f616cb609bb6255a2bdd953e1dbd13d4\", element=\"3a12454b-aa85-4843-b9b1-c63b304e6e03\")>,\n",
       " <selenium.webdriver.remote.webelement.WebElement (session=\"f616cb609bb6255a2bdd953e1dbd13d4\", element=\"4a8c2878-3bde-451e-817c-9e52284ac043\")>,\n",
       " <selenium.webdriver.remote.webelement.WebElement (session=\"f616cb609bb6255a2bdd953e1dbd13d4\", element=\"00a3e869-263d-4250-9efc-66d3cc7b20dc\")>,\n",
       " <selenium.webdriver.remote.webelement.WebElement (session=\"f616cb609bb6255a2bdd953e1dbd13d4\", element=\"8a9090fd-27a1-40ba-89b2-679a6d65c5aa\")>,\n",
       " <selenium.webdriver.remote.webelement.WebElement (session=\"f616cb609bb6255a2bdd953e1dbd13d4\", element=\"d2a86802-11af-4590-880c-9cdeff6928e3\")>,\n",
       " <selenium.webdriver.remote.webelement.WebElement (session=\"f616cb609bb6255a2bdd953e1dbd13d4\", element=\"f3e1611e-163f-4449-8c59-aa3641ae9a67\")>,\n",
       " <selenium.webdriver.remote.webelement.WebElement (session=\"f616cb609bb6255a2bdd953e1dbd13d4\", element=\"8335bf6b-c6f6-4297-b8e9-e19a0e02c837\")>,\n",
       " <selenium.webdriver.remote.webelement.WebElement (session=\"f616cb609bb6255a2bdd953e1dbd13d4\", element=\"e695026f-2b33-4350-ab30-9d30425cf874\")>,\n",
       " <selenium.webdriver.remote.webelement.WebElement (session=\"f616cb609bb6255a2bdd953e1dbd13d4\", element=\"8b956620-f614-49f1-bffe-b5e6c88c4dfb\")>,\n",
       " <selenium.webdriver.remote.webelement.WebElement (session=\"f616cb609bb6255a2bdd953e1dbd13d4\", element=\"0fc36b21-0465-4f00-a1f6-3bcf584ddac2\")>,\n",
       " <selenium.webdriver.remote.webelement.WebElement (session=\"f616cb609bb6255a2bdd953e1dbd13d4\", element=\"f726f46f-f5f0-4b9f-a47b-5d5f79f00bfc\")>]"
      ]
     },
     "execution_count": 27,
     "metadata": {},
     "output_type": "execute_result"
    }
   ],
   "source": [
    "Brands=driver.find_elements_by_xpath(\"//div [@class='_2WkVRV']\")\n",
    "Brands"
   ]
  },
  {
   "cell_type": "code",
   "execution_count": 29,
   "metadata": {},
   "outputs": [
    {
     "data": {
      "text/plain": [
       "['BRUTON',\n",
       " 'aadi',\n",
       " 'Robbie jones',\n",
       " 'Robbie jones',\n",
       " 'Numenzo',\n",
       " 'ORICUM',\n",
       " 'HOTSTYLE',\n",
       " 'Shoes Bank',\n",
       " 'VIPSJAZZY',\n",
       " 'Stefano Rads',\n",
       " 'BRUTON',\n",
       " 'Echor',\n",
       " 'Robbie jones',\n",
       " 'VISTAARA',\n",
       " '\"trend\"',\n",
       " 'aadi',\n",
       " 'VORII',\n",
       " 'Echor',\n",
       " 'Wika',\n",
       " 'BRUTON',\n",
       " 'Kraasa',\n",
       " 'Birde',\n",
       " 'bluemaker',\n",
       " 'DUCATI',\n",
       " 'TR',\n",
       " 'SCATCHITE',\n",
       " 'Baogi',\n",
       " 'SPARX',\n",
       " 'T-ROCK',\n",
       " 'SHURAB',\n",
       " 'SPARX',\n",
       " 'Svpanther',\n",
       " 'Magnolia',\n",
       " 'INSTYLE',\n",
       " 'India hub',\n",
       " 'restinfoot',\n",
       " 'Zsyto',\n",
       " '3SIX5',\n",
       " 'Zorth',\n",
       " 'oxpeo']"
      ]
     },
     "execution_count": 29,
     "metadata": {},
     "output_type": "execute_result"
    }
   ],
   "source": [
    "BRANDS=[]\n",
    "for i in Brands:\n",
    "    BRANDS.append(i.text)\n",
    "BRANDS"
   ]
  },
  {
   "cell_type": "code",
   "execution_count": 18,
   "metadata": {},
   "outputs": [
    {
     "data": {
      "text/plain": [
       "[<selenium.webdriver.remote.webelement.WebElement (session=\"f616cb609bb6255a2bdd953e1dbd13d4\", element=\"b0ee1ce7-54d0-420d-96e3-1def62f43e89\")>,\n",
       " <selenium.webdriver.remote.webelement.WebElement (session=\"f616cb609bb6255a2bdd953e1dbd13d4\", element=\"c8351e92-9670-447d-8dbc-6ef1a5855ac8\")>,\n",
       " <selenium.webdriver.remote.webelement.WebElement (session=\"f616cb609bb6255a2bdd953e1dbd13d4\", element=\"7bb852ab-9f72-4b24-9800-5558ec9c2d47\")>,\n",
       " <selenium.webdriver.remote.webelement.WebElement (session=\"f616cb609bb6255a2bdd953e1dbd13d4\", element=\"616d9d55-e0ee-4df0-b4f1-6a1f11b97a0b\")>,\n",
       " <selenium.webdriver.remote.webelement.WebElement (session=\"f616cb609bb6255a2bdd953e1dbd13d4\", element=\"f5603aed-aa04-4950-8050-01efe47c6881\")>,\n",
       " <selenium.webdriver.remote.webelement.WebElement (session=\"f616cb609bb6255a2bdd953e1dbd13d4\", element=\"83a852e6-7ed7-4ef1-88dc-52977338902f\")>,\n",
       " <selenium.webdriver.remote.webelement.WebElement (session=\"f616cb609bb6255a2bdd953e1dbd13d4\", element=\"c5a4935e-ef17-4762-8eb9-06c4b5233e62\")>,\n",
       " <selenium.webdriver.remote.webelement.WebElement (session=\"f616cb609bb6255a2bdd953e1dbd13d4\", element=\"ea98920f-accc-4c9b-8e4c-e90e92b2144a\")>,\n",
       " <selenium.webdriver.remote.webelement.WebElement (session=\"f616cb609bb6255a2bdd953e1dbd13d4\", element=\"ea639567-d4f3-4403-bbc1-522051cb33cb\")>,\n",
       " <selenium.webdriver.remote.webelement.WebElement (session=\"f616cb609bb6255a2bdd953e1dbd13d4\", element=\"7068c335-de58-4823-af2e-85d9b09042ad\")>,\n",
       " <selenium.webdriver.remote.webelement.WebElement (session=\"f616cb609bb6255a2bdd953e1dbd13d4\", element=\"13aaf09e-9ead-4083-8db6-89d2a1a47a3a\")>,\n",
       " <selenium.webdriver.remote.webelement.WebElement (session=\"f616cb609bb6255a2bdd953e1dbd13d4\", element=\"a1f8d7b3-3b9c-4ac6-aaf4-dee63c5901d4\")>,\n",
       " <selenium.webdriver.remote.webelement.WebElement (session=\"f616cb609bb6255a2bdd953e1dbd13d4\", element=\"a066fb9d-199e-434f-8524-31372d6ae639\")>,\n",
       " <selenium.webdriver.remote.webelement.WebElement (session=\"f616cb609bb6255a2bdd953e1dbd13d4\", element=\"80e79add-109a-4087-b6fa-66da1aad5064\")>,\n",
       " <selenium.webdriver.remote.webelement.WebElement (session=\"f616cb609bb6255a2bdd953e1dbd13d4\", element=\"048e973b-9fae-4ba7-ab29-0fba03fa21c6\")>,\n",
       " <selenium.webdriver.remote.webelement.WebElement (session=\"f616cb609bb6255a2bdd953e1dbd13d4\", element=\"7f1d23be-5876-4aa7-b472-1f44ae922aab\")>,\n",
       " <selenium.webdriver.remote.webelement.WebElement (session=\"f616cb609bb6255a2bdd953e1dbd13d4\", element=\"bf47a38c-6c43-4d56-86b3-361280a5ca1e\")>,\n",
       " <selenium.webdriver.remote.webelement.WebElement (session=\"f616cb609bb6255a2bdd953e1dbd13d4\", element=\"e7d48679-5040-4cc8-9afb-c7367bb72b31\")>,\n",
       " <selenium.webdriver.remote.webelement.WebElement (session=\"f616cb609bb6255a2bdd953e1dbd13d4\", element=\"db0e0575-f411-4fc6-9089-25e895539de6\")>,\n",
       " <selenium.webdriver.remote.webelement.WebElement (session=\"f616cb609bb6255a2bdd953e1dbd13d4\", element=\"43d86dff-c69b-4b89-9c23-5ebf3c1b2ffd\")>,\n",
       " <selenium.webdriver.remote.webelement.WebElement (session=\"f616cb609bb6255a2bdd953e1dbd13d4\", element=\"c987a920-c2cd-403b-88ab-c71bc5275f40\")>,\n",
       " <selenium.webdriver.remote.webelement.WebElement (session=\"f616cb609bb6255a2bdd953e1dbd13d4\", element=\"343ba23f-ae44-4480-9f37-175b0f0ddd56\")>,\n",
       " <selenium.webdriver.remote.webelement.WebElement (session=\"f616cb609bb6255a2bdd953e1dbd13d4\", element=\"379bbf8c-a305-41a2-be36-309a820dd8ca\")>,\n",
       " <selenium.webdriver.remote.webelement.WebElement (session=\"f616cb609bb6255a2bdd953e1dbd13d4\", element=\"07909270-47f6-49ee-a86d-d23f9d3e9220\")>,\n",
       " <selenium.webdriver.remote.webelement.WebElement (session=\"f616cb609bb6255a2bdd953e1dbd13d4\", element=\"01270f17-b946-4fb2-941a-4cdbfad49fb4\")>,\n",
       " <selenium.webdriver.remote.webelement.WebElement (session=\"f616cb609bb6255a2bdd953e1dbd13d4\", element=\"6a5c0e6c-f987-4da9-8ece-c1f548aa8c82\")>,\n",
       " <selenium.webdriver.remote.webelement.WebElement (session=\"f616cb609bb6255a2bdd953e1dbd13d4\", element=\"71f84c17-3c22-4847-9279-dea91aea1db9\")>,\n",
       " <selenium.webdriver.remote.webelement.WebElement (session=\"f616cb609bb6255a2bdd953e1dbd13d4\", element=\"9986a749-98f6-44f3-98c2-02ec247e8f57\")>,\n",
       " <selenium.webdriver.remote.webelement.WebElement (session=\"f616cb609bb6255a2bdd953e1dbd13d4\", element=\"c3f261be-13bd-4842-8de2-92f0f7499537\")>,\n",
       " <selenium.webdriver.remote.webelement.WebElement (session=\"f616cb609bb6255a2bdd953e1dbd13d4\", element=\"cc3dc3ff-ae3b-43b3-b335-d9d46421078b\")>,\n",
       " <selenium.webdriver.remote.webelement.WebElement (session=\"f616cb609bb6255a2bdd953e1dbd13d4\", element=\"14cd40b3-d452-46f6-bdec-367bb587dce5\")>,\n",
       " <selenium.webdriver.remote.webelement.WebElement (session=\"f616cb609bb6255a2bdd953e1dbd13d4\", element=\"61d457f9-4d5f-4826-b6b1-04c4e720bb07\")>,\n",
       " <selenium.webdriver.remote.webelement.WebElement (session=\"f616cb609bb6255a2bdd953e1dbd13d4\", element=\"15d7e657-34c0-4b9a-aca1-168cb0046a06\")>,\n",
       " <selenium.webdriver.remote.webelement.WebElement (session=\"f616cb609bb6255a2bdd953e1dbd13d4\", element=\"ca4c71ee-358d-4178-9e1a-786cffcead2f\")>,\n",
       " <selenium.webdriver.remote.webelement.WebElement (session=\"f616cb609bb6255a2bdd953e1dbd13d4\", element=\"5e16c38b-9ce0-4ae8-b421-fc1476e456bd\")>,\n",
       " <selenium.webdriver.remote.webelement.WebElement (session=\"f616cb609bb6255a2bdd953e1dbd13d4\", element=\"e5f67189-dbb2-4466-b231-7c6333843491\")>,\n",
       " <selenium.webdriver.remote.webelement.WebElement (session=\"f616cb609bb6255a2bdd953e1dbd13d4\", element=\"c55f1ac1-5b12-42d2-9150-96d65dbccf6c\")>,\n",
       " <selenium.webdriver.remote.webelement.WebElement (session=\"f616cb609bb6255a2bdd953e1dbd13d4\", element=\"2be700a8-681d-4f2b-a519-3fb996fbde06\")>,\n",
       " <selenium.webdriver.remote.webelement.WebElement (session=\"f616cb609bb6255a2bdd953e1dbd13d4\", element=\"d309f232-0ba4-45b5-85f7-61e6600eb0f8\")>,\n",
       " <selenium.webdriver.remote.webelement.WebElement (session=\"f616cb609bb6255a2bdd953e1dbd13d4\", element=\"2d01bff5-3a1e-4e0f-bc67-c7c9230014f4\")>]"
      ]
     },
     "execution_count": 18,
     "metadata": {},
     "output_type": "execute_result"
    }
   ],
   "source": [
    "Price=driver.find_elements_by_xpath(\"//div [@class='_30jeq3']\")\n",
    "Price"
   ]
  },
  {
   "cell_type": "code",
   "execution_count": 19,
   "metadata": {},
   "outputs": [
    {
     "data": {
      "text/plain": [
       "['₹499',\n",
       " '₹2,364',\n",
       " '₹449',\n",
       " '₹499',\n",
       " '₹965',\n",
       " '₹240',\n",
       " '₹474',\n",
       " '₹389',\n",
       " '₹299',\n",
       " '₹299',\n",
       " '₹455',\n",
       " '₹407',\n",
       " '₹240',\n",
       " '₹549',\n",
       " '₹423',\n",
       " '₹499',\n",
       " '₹240',\n",
       " '₹362',\n",
       " '₹416',\n",
       " '₹367',\n",
       " '₹509',\n",
       " '₹599',\n",
       " '₹1,549',\n",
       " '₹407',\n",
       " '₹719',\n",
       " '₹464',\n",
       " '₹539',\n",
       " '₹473',\n",
       " '₹701',\n",
       " '₹279',\n",
       " '₹269',\n",
       " '₹474',\n",
       " '₹499',\n",
       " '₹242',\n",
       " '₹474',\n",
       " '₹699',\n",
       " '₹474',\n",
       " '₹367',\n",
       " '₹635',\n",
       " '₹399']"
      ]
     },
     "execution_count": 19,
     "metadata": {},
     "output_type": "execute_result"
    }
   ],
   "source": [
    "PRICE=[]\n",
    "for i in Price:\n",
    "    PRICE.append(i.text)\n",
    "PRICE"
   ]
  },
  {
   "cell_type": "code",
   "execution_count": 20,
   "metadata": {},
   "outputs": [
    {
     "data": {
      "text/plain": [
       "[<selenium.webdriver.remote.webelement.WebElement (session=\"f616cb609bb6255a2bdd953e1dbd13d4\", element=\"32154cb0-07c6-4bb5-b869-27819035ea38\")>,\n",
       " <selenium.webdriver.remote.webelement.WebElement (session=\"f616cb609bb6255a2bdd953e1dbd13d4\", element=\"395f73db-6529-42d4-ac82-77c1ee6a2fe1\")>,\n",
       " <selenium.webdriver.remote.webelement.WebElement (session=\"f616cb609bb6255a2bdd953e1dbd13d4\", element=\"6f47897d-699d-42bd-b081-85f57089f924\")>,\n",
       " <selenium.webdriver.remote.webelement.WebElement (session=\"f616cb609bb6255a2bdd953e1dbd13d4\", element=\"7cef2179-acfb-45bf-928e-ac8a629c76b4\")>,\n",
       " <selenium.webdriver.remote.webelement.WebElement (session=\"f616cb609bb6255a2bdd953e1dbd13d4\", element=\"fe45406b-cff8-4a4d-823e-d5b4ad9dba8b\")>,\n",
       " <selenium.webdriver.remote.webelement.WebElement (session=\"f616cb609bb6255a2bdd953e1dbd13d4\", element=\"b79d1625-4bd5-42c8-8661-329858730d03\")>,\n",
       " <selenium.webdriver.remote.webelement.WebElement (session=\"f616cb609bb6255a2bdd953e1dbd13d4\", element=\"dc46bff1-de2d-40cc-90da-4d965723e553\")>,\n",
       " <selenium.webdriver.remote.webelement.WebElement (session=\"f616cb609bb6255a2bdd953e1dbd13d4\", element=\"a51ed736-7557-4452-8e0b-4c7d8419ae11\")>,\n",
       " <selenium.webdriver.remote.webelement.WebElement (session=\"f616cb609bb6255a2bdd953e1dbd13d4\", element=\"f85cfe0f-3879-4b5d-9636-eeda4f82a247\")>,\n",
       " <selenium.webdriver.remote.webelement.WebElement (session=\"f616cb609bb6255a2bdd953e1dbd13d4\", element=\"9be49fd8-3d93-498b-aa6e-7b573cb875fa\")>,\n",
       " <selenium.webdriver.remote.webelement.WebElement (session=\"f616cb609bb6255a2bdd953e1dbd13d4\", element=\"efeaab12-cce8-4820-aaa5-c5655ec6908b\")>,\n",
       " <selenium.webdriver.remote.webelement.WebElement (session=\"f616cb609bb6255a2bdd953e1dbd13d4\", element=\"747a72e2-638f-459f-8e67-862de6b2c88f\")>,\n",
       " <selenium.webdriver.remote.webelement.WebElement (session=\"f616cb609bb6255a2bdd953e1dbd13d4\", element=\"a83a73db-39f3-477d-8ee1-2ee10b7a271a\")>,\n",
       " <selenium.webdriver.remote.webelement.WebElement (session=\"f616cb609bb6255a2bdd953e1dbd13d4\", element=\"76676b1a-ba11-4b13-ab0d-3bc40ccc4202\")>,\n",
       " <selenium.webdriver.remote.webelement.WebElement (session=\"f616cb609bb6255a2bdd953e1dbd13d4\", element=\"d52993d0-f1c3-4973-8a72-700d6db2b319\")>,\n",
       " <selenium.webdriver.remote.webelement.WebElement (session=\"f616cb609bb6255a2bdd953e1dbd13d4\", element=\"eb29adf0-a51a-447a-9d9b-85de2d33d815\")>,\n",
       " <selenium.webdriver.remote.webelement.WebElement (session=\"f616cb609bb6255a2bdd953e1dbd13d4\", element=\"66707fad-de2d-4802-8841-a29305201a2b\")>,\n",
       " <selenium.webdriver.remote.webelement.WebElement (session=\"f616cb609bb6255a2bdd953e1dbd13d4\", element=\"177e041a-07a6-48cf-a207-1c4be8dc3d10\")>,\n",
       " <selenium.webdriver.remote.webelement.WebElement (session=\"f616cb609bb6255a2bdd953e1dbd13d4\", element=\"44d9d4b2-2b92-45e8-9f57-0a4d3ca1618f\")>,\n",
       " <selenium.webdriver.remote.webelement.WebElement (session=\"f616cb609bb6255a2bdd953e1dbd13d4\", element=\"e5603716-3542-45ac-bbb1-d9afcb5b0e4e\")>,\n",
       " <selenium.webdriver.remote.webelement.WebElement (session=\"f616cb609bb6255a2bdd953e1dbd13d4\", element=\"2ed9d6e2-27f7-4d3a-bdec-2046ca49862b\")>,\n",
       " <selenium.webdriver.remote.webelement.WebElement (session=\"f616cb609bb6255a2bdd953e1dbd13d4\", element=\"a4c5c215-3194-4958-8bbb-0d10024166cd\")>,\n",
       " <selenium.webdriver.remote.webelement.WebElement (session=\"f616cb609bb6255a2bdd953e1dbd13d4\", element=\"2370781e-bd0f-4367-a093-e521f24cc89a\")>,\n",
       " <selenium.webdriver.remote.webelement.WebElement (session=\"f616cb609bb6255a2bdd953e1dbd13d4\", element=\"aad25350-9bb2-4826-a507-ccd810cd6ca2\")>,\n",
       " <selenium.webdriver.remote.webelement.WebElement (session=\"f616cb609bb6255a2bdd953e1dbd13d4\", element=\"3b600dda-49d5-4416-b480-5c6e15b24cc8\")>,\n",
       " <selenium.webdriver.remote.webelement.WebElement (session=\"f616cb609bb6255a2bdd953e1dbd13d4\", element=\"3240f321-780e-45a8-9255-ef6760dc8676\")>,\n",
       " <selenium.webdriver.remote.webelement.WebElement (session=\"f616cb609bb6255a2bdd953e1dbd13d4\", element=\"c7e337b6-7ff8-4530-8572-b0f11cf5488f\")>,\n",
       " <selenium.webdriver.remote.webelement.WebElement (session=\"f616cb609bb6255a2bdd953e1dbd13d4\", element=\"5e64c85a-a850-4c1b-9eb1-6b39e69ccbe7\")>,\n",
       " <selenium.webdriver.remote.webelement.WebElement (session=\"f616cb609bb6255a2bdd953e1dbd13d4\", element=\"c4e0b16e-00f4-4720-9998-27bd0b52b2fb\")>,\n",
       " <selenium.webdriver.remote.webelement.WebElement (session=\"f616cb609bb6255a2bdd953e1dbd13d4\", element=\"b5a2df64-7f29-4891-94f2-4d0777630def\")>,\n",
       " <selenium.webdriver.remote.webelement.WebElement (session=\"f616cb609bb6255a2bdd953e1dbd13d4\", element=\"ded4fcfb-213b-4103-a255-91818180d361\")>,\n",
       " <selenium.webdriver.remote.webelement.WebElement (session=\"f616cb609bb6255a2bdd953e1dbd13d4\", element=\"53f60948-29c8-431b-9876-b16fea1b67ad\")>,\n",
       " <selenium.webdriver.remote.webelement.WebElement (session=\"f616cb609bb6255a2bdd953e1dbd13d4\", element=\"4a6b67b0-cd5c-4ef2-91a1-b6a4a1deb9e9\")>,\n",
       " <selenium.webdriver.remote.webelement.WebElement (session=\"f616cb609bb6255a2bdd953e1dbd13d4\", element=\"04333de4-e27b-4df7-813d-437112bb05bd\")>,\n",
       " <selenium.webdriver.remote.webelement.WebElement (session=\"f616cb609bb6255a2bdd953e1dbd13d4\", element=\"a25db312-cc2a-40fe-8d89-c808c875ae32\")>,\n",
       " <selenium.webdriver.remote.webelement.WebElement (session=\"f616cb609bb6255a2bdd953e1dbd13d4\", element=\"8e46c3fb-cb7a-4637-831e-b25a3a6b2f08\")>,\n",
       " <selenium.webdriver.remote.webelement.WebElement (session=\"f616cb609bb6255a2bdd953e1dbd13d4\", element=\"0872308c-a69b-4412-a82b-3cbbb4b1a3a0\")>,\n",
       " <selenium.webdriver.remote.webelement.WebElement (session=\"f616cb609bb6255a2bdd953e1dbd13d4\", element=\"28693cd3-1b10-4911-ab82-a6bbd819f6da\")>,\n",
       " <selenium.webdriver.remote.webelement.WebElement (session=\"f616cb609bb6255a2bdd953e1dbd13d4\", element=\"db7da072-a294-44e3-b7f9-3222cd97d67f\")>]"
      ]
     },
     "execution_count": 20,
     "metadata": {},
     "output_type": "execute_result"
    }
   ],
   "source": [
    "Discount=driver.find_elements_by_xpath(\"//div [@class='_3Ay6Sb']\")\n",
    "Discount"
   ]
  },
  {
   "cell_type": "code",
   "execution_count": 21,
   "metadata": {},
   "outputs": [
    {
     "data": {
      "text/plain": [
       "['66% off',\n",
       " '45% off',\n",
       " '82% off',\n",
       " '85% off',\n",
       " '28% off',\n",
       " '51% off',\n",
       " '63% off',\n",
       " '61% off',\n",
       " '40% off',\n",
       " '76% off',\n",
       " '69% off',\n",
       " '68% off',\n",
       " '51% off',\n",
       " '45% off',\n",
       " '57% off',\n",
       " '61% off',\n",
       " '51% off',\n",
       " '63% off',\n",
       " '58% off',\n",
       " '63% off',\n",
       " '66% off',\n",
       " '40% off',\n",
       " '50% off',\n",
       " '68% off',\n",
       " '71% off',\n",
       " '53% off',\n",
       " '46% off',\n",
       " '81% off',\n",
       " '38% off',\n",
       " '72% off',\n",
       " '80% off',\n",
       " '52% off',\n",
       " '50% off',\n",
       " '65% off',\n",
       " '52% off',\n",
       " '52% off',\n",
       " '44% off',\n",
       " '36% off',\n",
       " '60% off']"
      ]
     },
     "execution_count": 21,
     "metadata": {},
     "output_type": "execute_result"
    }
   ],
   "source": [
    "DISCOUNT=[]\n",
    "for i in Discount:\n",
    "    DISCOUNT.append(i.text)\n",
    "DISCOUNT"
   ]
  },
  {
   "cell_type": "code",
   "execution_count": 22,
   "metadata": {},
   "outputs": [
    {
     "data": {
      "text/plain": [
       "[<selenium.webdriver.remote.webelement.WebElement (session=\"f616cb609bb6255a2bdd953e1dbd13d4\", element=\"e68d6a7c-c9a0-4f8d-a8ce-34658f140c14\")>,\n",
       " <selenium.webdriver.remote.webelement.WebElement (session=\"f616cb609bb6255a2bdd953e1dbd13d4\", element=\"801ce0c7-dfcd-4c54-9ab3-5d4265e380e7\")>,\n",
       " <selenium.webdriver.remote.webelement.WebElement (session=\"f616cb609bb6255a2bdd953e1dbd13d4\", element=\"e825f60d-d277-42d4-b60a-5922645493dd\")>,\n",
       " <selenium.webdriver.remote.webelement.WebElement (session=\"f616cb609bb6255a2bdd953e1dbd13d4\", element=\"534c2bac-2c0d-4e17-b48e-29a644797e25\")>,\n",
       " <selenium.webdriver.remote.webelement.WebElement (session=\"f616cb609bb6255a2bdd953e1dbd13d4\", element=\"2b5ecce4-f138-4fee-9914-11ff41ba1663\")>,\n",
       " <selenium.webdriver.remote.webelement.WebElement (session=\"f616cb609bb6255a2bdd953e1dbd13d4\", element=\"97a4b0b3-e989-4828-b6da-e6a80b66af75\")>,\n",
       " <selenium.webdriver.remote.webelement.WebElement (session=\"f616cb609bb6255a2bdd953e1dbd13d4\", element=\"b0924b71-3cc6-4afd-84eb-9373f9cf3329\")>,\n",
       " <selenium.webdriver.remote.webelement.WebElement (session=\"f616cb609bb6255a2bdd953e1dbd13d4\", element=\"6a90fd8a-f979-4c2e-b344-a81a9ca2add0\")>,\n",
       " <selenium.webdriver.remote.webelement.WebElement (session=\"f616cb609bb6255a2bdd953e1dbd13d4\", element=\"a2290cb0-cd3c-4773-aeed-a53aa41f96b5\")>,\n",
       " <selenium.webdriver.remote.webelement.WebElement (session=\"f616cb609bb6255a2bdd953e1dbd13d4\", element=\"ecd6e5d6-e151-4e4a-aa43-3069a2e5ce76\")>,\n",
       " <selenium.webdriver.remote.webelement.WebElement (session=\"f616cb609bb6255a2bdd953e1dbd13d4\", element=\"75edf295-ae49-4d8d-8b9c-423ee6c78579\")>,\n",
       " <selenium.webdriver.remote.webelement.WebElement (session=\"f616cb609bb6255a2bdd953e1dbd13d4\", element=\"05748486-831d-4a30-adb4-7396da180bf5\")>,\n",
       " <selenium.webdriver.remote.webelement.WebElement (session=\"f616cb609bb6255a2bdd953e1dbd13d4\", element=\"32457d6f-0008-43f6-9e17-db8765f8de54\")>,\n",
       " <selenium.webdriver.remote.webelement.WebElement (session=\"f616cb609bb6255a2bdd953e1dbd13d4\", element=\"ccb2bb05-4d7b-40d9-8821-d692fcd801d5\")>,\n",
       " <selenium.webdriver.remote.webelement.WebElement (session=\"f616cb609bb6255a2bdd953e1dbd13d4\", element=\"465fd3c4-6dcc-40b7-a5c2-6d048dadd0c8\")>,\n",
       " <selenium.webdriver.remote.webelement.WebElement (session=\"f616cb609bb6255a2bdd953e1dbd13d4\", element=\"63acf954-78ac-4298-a351-0362c1fb66d7\")>,\n",
       " <selenium.webdriver.remote.webelement.WebElement (session=\"f616cb609bb6255a2bdd953e1dbd13d4\", element=\"9d51b75e-7e6a-4b5a-a3bd-9b13a5619d42\")>,\n",
       " <selenium.webdriver.remote.webelement.WebElement (session=\"f616cb609bb6255a2bdd953e1dbd13d4\", element=\"3b570ea1-73b0-46bb-8a71-d96171d4ce4f\")>,\n",
       " <selenium.webdriver.remote.webelement.WebElement (session=\"f616cb609bb6255a2bdd953e1dbd13d4\", element=\"8f29ca48-7319-4a74-9516-68c346847766\")>,\n",
       " <selenium.webdriver.remote.webelement.WebElement (session=\"f616cb609bb6255a2bdd953e1dbd13d4\", element=\"e95e0a60-595d-41fe-bf86-8b6f00a06bed\")>,\n",
       " <selenium.webdriver.remote.webelement.WebElement (session=\"f616cb609bb6255a2bdd953e1dbd13d4\", element=\"c314df7c-4bfa-4b41-b547-f586bf08dc46\")>,\n",
       " <selenium.webdriver.remote.webelement.WebElement (session=\"f616cb609bb6255a2bdd953e1dbd13d4\", element=\"9643a5ae-7154-48e5-b9f0-6cd1e6948e44\")>,\n",
       " <selenium.webdriver.remote.webelement.WebElement (session=\"f616cb609bb6255a2bdd953e1dbd13d4\", element=\"9ce3195d-1bd4-4b0a-9a86-d953ebe3b88a\")>,\n",
       " <selenium.webdriver.remote.webelement.WebElement (session=\"f616cb609bb6255a2bdd953e1dbd13d4\", element=\"d602161b-306b-4cba-b05c-7a0c1bdff8d0\")>,\n",
       " <selenium.webdriver.remote.webelement.WebElement (session=\"f616cb609bb6255a2bdd953e1dbd13d4\", element=\"d90fd273-ae11-4739-be4c-a9dbb14f8280\")>,\n",
       " <selenium.webdriver.remote.webelement.WebElement (session=\"f616cb609bb6255a2bdd953e1dbd13d4\", element=\"05622afd-0f67-4cc0-87d8-f357ef7f123c\")>,\n",
       " <selenium.webdriver.remote.webelement.WebElement (session=\"f616cb609bb6255a2bdd953e1dbd13d4\", element=\"d35e0021-2385-4dee-a184-0b08254e5667\")>,\n",
       " <selenium.webdriver.remote.webelement.WebElement (session=\"f616cb609bb6255a2bdd953e1dbd13d4\", element=\"9d3ed43a-5db0-47f8-a02c-e66e17114469\")>,\n",
       " <selenium.webdriver.remote.webelement.WebElement (session=\"f616cb609bb6255a2bdd953e1dbd13d4\", element=\"01bd5f97-4078-4d26-a07d-b0f5f152b72a\")>]"
      ]
     },
     "execution_count": 22,
     "metadata": {},
     "output_type": "execute_result"
    }
   ],
   "source": [
    "Description=driver.find_elements_by_xpath(\"//a[@class='IRpwTa']\")\n",
    "Description"
   ]
  },
  {
   "cell_type": "code",
   "execution_count": 30,
   "metadata": {},
   "outputs": [
    {
     "data": {
      "text/plain": [
       "['Men Sports Sneakers For Men',\n",
       " 'Sneakers For Men',\n",
       " 'Casual Sneakers Shoes For Men Sneakers For Men',\n",
       " 'Sneakers For Men',\n",
       " 'Sneakers For Men',\n",
       " 'Combo pack of 2 casual sneaker shoes for men Sneakers F...',\n",
       " 'Sneakers Sneakers For Men',\n",
       " \"White Sneaker For Men's/Boy's Sneakers For Men\",\n",
       " 'Combo Pack Of 4 Canvas Sneakers For Men',\n",
       " 'Casual Sneakers Black Shoes For Men Sneakers For Men',\n",
       " '489 Black Sneakers For Men',\n",
       " 'Fashionable casual sneakers shoes for men Sneakers For ...',\n",
       " 'Sneakers For Men',\n",
       " 'Latest Stylish Casual sneakers for men | Lace up lightw...',\n",
       " 'Sneakers For Men',\n",
       " 'Combo Pack of 2 Casual Sneakers For Men',\n",
       " 'Series 7 Sneakers For Men',\n",
       " 'Combo Pack of 4 Casual Shoes Sneakers For Men',\n",
       " 'casual for men (blue 06) Sneakers For Men',\n",
       " 'Sneakers For Men',\n",
       " 'Sneakers Sneakers For Men',\n",
       " 'Synthetic Leather Casual Partywear Wedding Sneakers Sho...',\n",
       " 'SD-323 Sneakers For Men',\n",
       " 'White Sneakers Sneakers For Men',\n",
       " 'Lightweight Sneakers For Men',\n",
       " 'Canvas casual sneaker shoes Sneakers For Men',\n",
       " 'Casual shoes Sneakers For Men',\n",
       " 'ORIFWSH(OR)-1077 Sneakers For Men',\n",
       " 'Colourblocked Trending Multicolor Ultralight canvas Spo...']"
      ]
     },
     "execution_count": 30,
     "metadata": {},
     "output_type": "execute_result"
    }
   ],
   "source": [
    "DESCRIPTION=[]\n",
    "for i in Description:\n",
    "    DESCRIPTION.append(i.text)\n",
    "DESCRIPTION"
   ]
  },
  {
   "cell_type": "code",
   "execution_count": null,
   "metadata": {},
   "outputs": [],
   "source": []
  }
 ],
 "metadata": {
  "kernelspec": {
   "display_name": "Python 3",
   "language": "python",
   "name": "python3"
  },
  "language_info": {
   "codemirror_mode": {
    "name": "ipython",
    "version": 3
   },
   "file_extension": ".py",
   "mimetype": "text/x-python",
   "name": "python",
   "nbconvert_exporter": "python",
   "pygments_lexer": "ipython3",
   "version": "3.8.3"
  }
 },
 "nbformat": 4,
 "nbformat_minor": 4
}
