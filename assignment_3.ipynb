{
 "cells": [
  {
   "cell_type": "code",
   "execution_count": 26,
   "metadata": {},
   "outputs": [
    {
     "name": "stdout",
     "output_type": "stream",
     "text": [
      "Requirement already satisfied: selenium in c:\\programdata\\anaconda3\\lib\\site-packages (3.141.0)\n",
      "Requirement already satisfied: urllib3 in c:\\programdata\\anaconda3\\lib\\site-packages (from selenium) (1.25.9)\n"
     ]
    }
   ],
   "source": [
    "!pip install selenium"
   ]
  },
  {
   "cell_type": "code",
   "execution_count": 27,
   "metadata": {},
   "outputs": [],
   "source": [
    "import selenium\n",
    "import pandas as pd\n",
    "from selenium import webdriver"
   ]
  },
  {
   "cell_type": "code",
   "execution_count": 28,
   "metadata": {},
   "outputs": [],
   "source": [
    "driver= webdriver.Chrome(r\"C:\\Users\\shobh\\Downloads\\chromedriver_win32\\chromedriver.exe\")"
   ]
  },
  {
   "cell_type": "code",
   "execution_count": 29,
   "metadata": {},
   "outputs": [],
   "source": [
    "url = 'https://www.naukri.com/'\n",
    "driver.get(url)"
   ]
  },
  {
   "cell_type": "code",
   "execution_count": 30,
   "metadata": {},
   "outputs": [
    {
     "data": {
      "text/plain": [
       "<selenium.webdriver.remote.webelement.WebElement (session=\"e17a9386d00ba47564fc0a21f792a7a9\", element=\"8bf36648-a5e4-4998-a2ac-52ac40bb6bf0\")>"
      ]
     },
     "execution_count": 30,
     "metadata": {},
     "output_type": "execute_result"
    }
   ],
   "source": [
    "search_job=driver.find_element_by_id('qsb-keyword-sugg')\n",
    "search_job"
   ]
  },
  {
   "cell_type": "code",
   "execution_count": 31,
   "metadata": {},
   "outputs": [],
   "source": [
    "search_job.send_keys(\"Data Scientist\")\n"
   ]
  },
  {
   "cell_type": "code",
   "execution_count": 32,
   "metadata": {},
   "outputs": [],
   "source": [
    "search_loc= driver.find_element_by_id(\"qsb-location-sugg\")\n",
    "search_loc.send_keys(\"Delhi/NCR\")"
   ]
  },
  {
   "cell_type": "code",
   "execution_count": 33,
   "metadata": {},
   "outputs": [],
   "source": [
    "search_btn=driver.find_element_by_xpath(\"//button[@class='btn']\")\n",
    "search_btn.click()"
   ]
  },
  {
   "cell_type": "code",
   "execution_count": 43,
   "metadata": {},
   "outputs": [
    {
     "data": {
      "text/plain": [
       "[<selenium.webdriver.remote.webelement.WebElement (session=\"e17a9386d00ba47564fc0a21f792a7a9\", element=\"a68f0519-9bba-4cae-9fe9-786be1c3307f\")>,\n",
       " <selenium.webdriver.remote.webelement.WebElement (session=\"e17a9386d00ba47564fc0a21f792a7a9\", element=\"7b7609fa-6c67-438b-82e8-9221effddacc\")>,\n",
       " <selenium.webdriver.remote.webelement.WebElement (session=\"e17a9386d00ba47564fc0a21f792a7a9\", element=\"acb90c54-884f-4d95-aec7-e6b36a33d396\")>,\n",
       " <selenium.webdriver.remote.webelement.WebElement (session=\"e17a9386d00ba47564fc0a21f792a7a9\", element=\"a94ad698-15d7-4755-a052-0fc85b41e782\")>,\n",
       " <selenium.webdriver.remote.webelement.WebElement (session=\"e17a9386d00ba47564fc0a21f792a7a9\", element=\"2db17fd2-fbe3-4efc-b71b-a9dc3d3659db\")>,\n",
       " <selenium.webdriver.remote.webelement.WebElement (session=\"e17a9386d00ba47564fc0a21f792a7a9\", element=\"a895b4dc-1a51-4c95-aec8-fda496b75940\")>,\n",
       " <selenium.webdriver.remote.webelement.WebElement (session=\"e17a9386d00ba47564fc0a21f792a7a9\", element=\"340a0883-01a7-4c11-a72b-2d82b5c5bdf6\")>,\n",
       " <selenium.webdriver.remote.webelement.WebElement (session=\"e17a9386d00ba47564fc0a21f792a7a9\", element=\"2dc8cbab-8260-407c-aaec-b9d26db62c1c\")>,\n",
       " <selenium.webdriver.remote.webelement.WebElement (session=\"e17a9386d00ba47564fc0a21f792a7a9\", element=\"9fdd6000-d293-4860-860f-8a2ba42bf8cc\")>,\n",
       " <selenium.webdriver.remote.webelement.WebElement (session=\"e17a9386d00ba47564fc0a21f792a7a9\", element=\"f7dee8d9-4a41-457f-ba54-549b7dfc9cc4\")>,\n",
       " <selenium.webdriver.remote.webelement.WebElement (session=\"e17a9386d00ba47564fc0a21f792a7a9\", element=\"03705b58-ffc2-468d-881e-d4a0d5de1feb\")>,\n",
       " <selenium.webdriver.remote.webelement.WebElement (session=\"e17a9386d00ba47564fc0a21f792a7a9\", element=\"6ce33006-496d-4655-8c40-eb915f1d8475\")>,\n",
       " <selenium.webdriver.remote.webelement.WebElement (session=\"e17a9386d00ba47564fc0a21f792a7a9\", element=\"3f640ae7-e2bf-4748-9dbe-ddf5dea75708\")>,\n",
       " <selenium.webdriver.remote.webelement.WebElement (session=\"e17a9386d00ba47564fc0a21f792a7a9\", element=\"6f7c4b33-a53f-4589-b788-18b9f93b3408\")>,\n",
       " <selenium.webdriver.remote.webelement.WebElement (session=\"e17a9386d00ba47564fc0a21f792a7a9\", element=\"4a712f44-8b49-4c65-881b-8af8f0d994f3\")>,\n",
       " <selenium.webdriver.remote.webelement.WebElement (session=\"e17a9386d00ba47564fc0a21f792a7a9\", element=\"eff64157-0faf-4dee-a31e-c539178e1a26\")>,\n",
       " <selenium.webdriver.remote.webelement.WebElement (session=\"e17a9386d00ba47564fc0a21f792a7a9\", element=\"ac1227c3-78c6-42b4-98ad-b994fe5e0b57\")>,\n",
       " <selenium.webdriver.remote.webelement.WebElement (session=\"e17a9386d00ba47564fc0a21f792a7a9\", element=\"66a59913-e522-498a-99dc-678ad3516f9a\")>,\n",
       " <selenium.webdriver.remote.webelement.WebElement (session=\"e17a9386d00ba47564fc0a21f792a7a9\", element=\"86f89aec-768d-4a35-bb9e-b479b0cfc6c9\")>,\n",
       " <selenium.webdriver.remote.webelement.WebElement (session=\"e17a9386d00ba47564fc0a21f792a7a9\", element=\"f37bafb9-cf6d-409a-9d0d-856a10f00fe1\")>]"
      ]
     },
     "execution_count": 43,
     "metadata": {},
     "output_type": "execute_result"
    }
   ],
   "source": [
    "titles_tags=driver.find_elements_by_xpath(\"//a [@class='title fw500 ellipsis']\")\n",
    "titles_tags"
   ]
  },
  {
   "cell_type": "code",
   "execution_count": 44,
   "metadata": {},
   "outputs": [
    {
     "data": {
      "text/plain": [
       "['Data Scientist / Data Analyst -Business Analyst',\n",
       " 'Senior Data Scientist, Modeling',\n",
       " 'Data Scientist - IBM Garage',\n",
       " 'Sr. Data Scientist',\n",
       " 'Business Analyst- Data Scientist',\n",
       " 'Data Scientist - High growth VC backed Influencer Marketplace',\n",
       " 'Senior data scientist',\n",
       " 'Senior Data Scientist - Mobile Application',\n",
       " 'Excellent opportunity For Data Scientist',\n",
       " 'Data Scientist For an AI Product (Work from Home)',\n",
       " 'Data Scientist',\n",
       " 'Data Scientist',\n",
       " 'Data Scientist',\n",
       " 'Driveline Data Scientist',\n",
       " 'DATA Scientist – Gurgaon (Exp 3-6 years)',\n",
       " 'DATA Scientist – Gurgaon (Exp 3-6 years)',\n",
       " 'Data Scientist - Noida',\n",
       " 'Data Scientist - Noida',\n",
       " 'Data Scientist - Noida',\n",
       " 'Data Scientist']"
      ]
     },
     "execution_count": 44,
     "metadata": {},
     "output_type": "execute_result"
    }
   ],
   "source": [
    "job_titles=[]\n",
    "for i in titles_tags:\n",
    "    job_titles.append(i.text)\n",
    "job_titles"
   ]
  },
  {
   "cell_type": "code",
   "execution_count": 45,
   "metadata": {},
   "outputs": [
    {
     "data": {
      "text/plain": [
       "[<selenium.webdriver.remote.webelement.WebElement (session=\"e17a9386d00ba47564fc0a21f792a7a9\", element=\"c7dcdaeb-5fe8-4261-94ce-cd16a712183b\")>,\n",
       " <selenium.webdriver.remote.webelement.WebElement (session=\"e17a9386d00ba47564fc0a21f792a7a9\", element=\"25c52ccf-f428-4325-80ce-96eca828a229\")>,\n",
       " <selenium.webdriver.remote.webelement.WebElement (session=\"e17a9386d00ba47564fc0a21f792a7a9\", element=\"642de6a9-7d7f-4bd5-bb5a-d82edbff8038\")>,\n",
       " <selenium.webdriver.remote.webelement.WebElement (session=\"e17a9386d00ba47564fc0a21f792a7a9\", element=\"4876dbad-02a7-40b7-8b71-1402deecb7b9\")>,\n",
       " <selenium.webdriver.remote.webelement.WebElement (session=\"e17a9386d00ba47564fc0a21f792a7a9\", element=\"982d3400-ac34-46f8-887c-91bfd072d706\")>,\n",
       " <selenium.webdriver.remote.webelement.WebElement (session=\"e17a9386d00ba47564fc0a21f792a7a9\", element=\"2c38d981-47bd-4652-8c76-54989d18ded9\")>,\n",
       " <selenium.webdriver.remote.webelement.WebElement (session=\"e17a9386d00ba47564fc0a21f792a7a9\", element=\"12806a6f-11f3-42af-bdc6-d00eba814dbd\")>,\n",
       " <selenium.webdriver.remote.webelement.WebElement (session=\"e17a9386d00ba47564fc0a21f792a7a9\", element=\"228273fc-ecfb-44ce-8cfa-4e95aa1ed1b5\")>,\n",
       " <selenium.webdriver.remote.webelement.WebElement (session=\"e17a9386d00ba47564fc0a21f792a7a9\", element=\"3ab004eb-3485-4c37-8d75-e15eb23480da\")>,\n",
       " <selenium.webdriver.remote.webelement.WebElement (session=\"e17a9386d00ba47564fc0a21f792a7a9\", element=\"645fa07e-edbd-42c7-afca-29b23772ca74\")>,\n",
       " <selenium.webdriver.remote.webelement.WebElement (session=\"e17a9386d00ba47564fc0a21f792a7a9\", element=\"0e52905b-a4e0-423f-ab43-4460a1296181\")>,\n",
       " <selenium.webdriver.remote.webelement.WebElement (session=\"e17a9386d00ba47564fc0a21f792a7a9\", element=\"4c8a5da1-e0fd-4856-b6ea-f1655bbaef2f\")>,\n",
       " <selenium.webdriver.remote.webelement.WebElement (session=\"e17a9386d00ba47564fc0a21f792a7a9\", element=\"12fc9ef4-77c4-4968-832f-e34c884e8e9d\")>,\n",
       " <selenium.webdriver.remote.webelement.WebElement (session=\"e17a9386d00ba47564fc0a21f792a7a9\", element=\"a2f328e0-e800-43f4-9aa0-a77b3b463619\")>,\n",
       " <selenium.webdriver.remote.webelement.WebElement (session=\"e17a9386d00ba47564fc0a21f792a7a9\", element=\"795da26b-6341-4fb2-9871-de6cf930d3a1\")>,\n",
       " <selenium.webdriver.remote.webelement.WebElement (session=\"e17a9386d00ba47564fc0a21f792a7a9\", element=\"a6d2fd7b-a5c7-4cc0-bbde-274a0e6d5581\")>,\n",
       " <selenium.webdriver.remote.webelement.WebElement (session=\"e17a9386d00ba47564fc0a21f792a7a9\", element=\"99924beb-d561-4942-8950-5ce579edb3a4\")>,\n",
       " <selenium.webdriver.remote.webelement.WebElement (session=\"e17a9386d00ba47564fc0a21f792a7a9\", element=\"9c308724-9fa9-4b7d-9131-b51e243f4d9a\")>,\n",
       " <selenium.webdriver.remote.webelement.WebElement (session=\"e17a9386d00ba47564fc0a21f792a7a9\", element=\"b793d0ef-8859-47b0-ae7f-f173047ecb2f\")>,\n",
       " <selenium.webdriver.remote.webelement.WebElement (session=\"e17a9386d00ba47564fc0a21f792a7a9\", element=\"dc91ab36-2928-4a88-95b6-2a05873aa847\")>]"
      ]
     },
     "execution_count": 45,
     "metadata": {},
     "output_type": "execute_result"
    }
   ],
   "source": [
    "companies_tags=driver.find_elements_by_xpath(\"//a [@class='subTitle ellipsis fleft']\")\n",
    "companies_tags"
   ]
  },
  {
   "cell_type": "code",
   "execution_count": 46,
   "metadata": {},
   "outputs": [
    {
     "data": {
      "text/plain": [
       "['Inflexion Analytix Private Limited',\n",
       " 'Nielsen',\n",
       " 'IBM India Pvt. Limited',\n",
       " 'VALIANCE ANALYTICS PRIVATE LIMITED',\n",
       " 'Wipro',\n",
       " 'Ravgins International Pvt. Ltd.',\n",
       " 'Cardekho.com',\n",
       " 'HOME CREDIT INDIA FINANCE PRIVATE LIMITED',\n",
       " 'NEC CORPORATION INDIA PRIVATE LIMITED',\n",
       " 'Biz HR IT Solutions',\n",
       " 'Mount Talent Consulting Private Limited',\n",
       " 'Mount Talent Consulting Private Limited',\n",
       " 'Mobikwik',\n",
       " 'CNH Industrial India Pvt. Ltd',\n",
       " 'CRESCENDO GLOBAL LEADERSHIP HIRING INDIA PRIVATE L IMITED',\n",
       " 'CRESCENDO GLOBAL LEADERSHIP HIRING INDIA PRIVATE L IMITED',\n",
       " 'Agreeya',\n",
       " 'Agreeya',\n",
       " 'Optum Global Solutions (India) Private Limited',\n",
       " 'MOTHERSONSUMI INFOTECH & DESIGNS LIMITED']"
      ]
     },
     "execution_count": 46,
     "metadata": {},
     "output_type": "execute_result"
    }
   ],
   "source": [
    "company_names=[]\n",
    "for i in companies_tags:\n",
    "    company_names.append(i.text)\n",
    "company_names"
   ]
  },
  {
   "cell_type": "code",
   "execution_count": 38,
   "metadata": {},
   "outputs": [
    {
     "data": {
      "text/plain": [
       "[<selenium.webdriver.remote.webelement.WebElement (session=\"e17a9386d00ba47564fc0a21f792a7a9\", element=\"e505f68f-fae5-413d-b0f7-097d7cbea4f1\")>,\n",
       " <selenium.webdriver.remote.webelement.WebElement (session=\"e17a9386d00ba47564fc0a21f792a7a9\", element=\"025bd646-637d-4d3c-9823-c8094b9af346\")>,\n",
       " <selenium.webdriver.remote.webelement.WebElement (session=\"e17a9386d00ba47564fc0a21f792a7a9\", element=\"230e618c-d7dc-4015-9821-6994b87b1bc2\")>,\n",
       " <selenium.webdriver.remote.webelement.WebElement (session=\"e17a9386d00ba47564fc0a21f792a7a9\", element=\"c33d58a3-44ac-4fef-9433-7d890aa3a842\")>,\n",
       " <selenium.webdriver.remote.webelement.WebElement (session=\"e17a9386d00ba47564fc0a21f792a7a9\", element=\"97c1ba32-7bce-4216-801f-558997c8529a\")>,\n",
       " <selenium.webdriver.remote.webelement.WebElement (session=\"e17a9386d00ba47564fc0a21f792a7a9\", element=\"b46041ea-9980-4b8c-8342-22557eed4b9c\")>,\n",
       " <selenium.webdriver.remote.webelement.WebElement (session=\"e17a9386d00ba47564fc0a21f792a7a9\", element=\"43b9a98f-b872-450e-871c-c237c91b7d21\")>,\n",
       " <selenium.webdriver.remote.webelement.WebElement (session=\"e17a9386d00ba47564fc0a21f792a7a9\", element=\"b5b50523-f336-4fb2-9dd1-a7fbf8ec3d86\")>,\n",
       " <selenium.webdriver.remote.webelement.WebElement (session=\"e17a9386d00ba47564fc0a21f792a7a9\", element=\"de88efb7-efbe-49ba-b60e-831f298fd594\")>,\n",
       " <selenium.webdriver.remote.webelement.WebElement (session=\"e17a9386d00ba47564fc0a21f792a7a9\", element=\"2108c176-7eba-4a46-a2e4-e0059a0bdfc5\")>,\n",
       " <selenium.webdriver.remote.webelement.WebElement (session=\"e17a9386d00ba47564fc0a21f792a7a9\", element=\"f254e659-7d5f-49ed-aa58-fd467926175d\")>,\n",
       " <selenium.webdriver.remote.webelement.WebElement (session=\"e17a9386d00ba47564fc0a21f792a7a9\", element=\"2d4775d6-e659-4ce5-9f19-b6b2e2f76dea\")>,\n",
       " <selenium.webdriver.remote.webelement.WebElement (session=\"e17a9386d00ba47564fc0a21f792a7a9\", element=\"1c2b8d45-efa2-4e85-9ac2-77d0568edd7d\")>,\n",
       " <selenium.webdriver.remote.webelement.WebElement (session=\"e17a9386d00ba47564fc0a21f792a7a9\", element=\"fe28de1b-3f0a-4e72-8524-aaf0a817a13d\")>,\n",
       " <selenium.webdriver.remote.webelement.WebElement (session=\"e17a9386d00ba47564fc0a21f792a7a9\", element=\"199fed35-d4a0-415b-9d7f-fa26f596e459\")>,\n",
       " <selenium.webdriver.remote.webelement.WebElement (session=\"e17a9386d00ba47564fc0a21f792a7a9\", element=\"0cb57121-ac30-48de-8610-92ae43e65723\")>,\n",
       " <selenium.webdriver.remote.webelement.WebElement (session=\"e17a9386d00ba47564fc0a21f792a7a9\", element=\"2f1a1728-a9c0-4743-bc84-1166e21090b7\")>,\n",
       " <selenium.webdriver.remote.webelement.WebElement (session=\"e17a9386d00ba47564fc0a21f792a7a9\", element=\"b77e1482-eb90-4cf8-9e08-0e3b00eabe12\")>,\n",
       " <selenium.webdriver.remote.webelement.WebElement (session=\"e17a9386d00ba47564fc0a21f792a7a9\", element=\"a9abc453-8454-45cd-9377-e71e82276eb1\")>,\n",
       " <selenium.webdriver.remote.webelement.WebElement (session=\"e17a9386d00ba47564fc0a21f792a7a9\", element=\"39b34eb3-04ee-456e-a91c-d9f193881c21\")>]"
      ]
     },
     "execution_count": 38,
     "metadata": {},
     "output_type": "execute_result"
    }
   ],
   "source": [
    "experience_tags=driver.find_elements_by_xpath(\"//li [@class='fleft grey-text br2 placeHolderLi experience']/span\")\n",
    "experience_tags"
   ]
  },
  {
   "cell_type": "code",
   "execution_count": 47,
   "metadata": {},
   "outputs": [
    {
     "data": {
      "text/plain": [
       "['0-3 Yrs',\n",
       " '3-7 Yrs',\n",
       " '5-8 Yrs',\n",
       " '6-8 Yrs',\n",
       " '2-5 Yrs',\n",
       " '3-5 Yrs',\n",
       " '3-6 Yrs',\n",
       " '4-9 Yrs',\n",
       " '3-7 Yrs',\n",
       " '3-5 Yrs',\n",
       " '3-8 Yrs',\n",
       " '3-8 Yrs',\n",
       " '3-5 Yrs',\n",
       " '5-10 Yrs',\n",
       " '3-6 Yrs',\n",
       " '3-6 Yrs',\n",
       " '3-7 Yrs',\n",
       " '3-7 Yrs',\n",
       " '3-5 Yrs',\n",
       " '2-5 Yrs']"
      ]
     },
     "execution_count": 47,
     "metadata": {},
     "output_type": "execute_result"
    }
   ],
   "source": [
    "Experience=[]\n",
    "for i in experience_tags:\n",
    "    Experience.append(i.text)\n",
    "Experience"
   ]
  },
  {
   "cell_type": "code",
   "execution_count": 48,
   "metadata": {},
   "outputs": [
    {
     "data": {
      "text/plain": [
       "[<selenium.webdriver.remote.webelement.WebElement (session=\"e17a9386d00ba47564fc0a21f792a7a9\", element=\"ab276455-a584-48bf-853b-0e025d43293e\")>,\n",
       " <selenium.webdriver.remote.webelement.WebElement (session=\"e17a9386d00ba47564fc0a21f792a7a9\", element=\"13f5bc37-6158-4293-ae48-3983afb5580d\")>,\n",
       " <selenium.webdriver.remote.webelement.WebElement (session=\"e17a9386d00ba47564fc0a21f792a7a9\", element=\"d70da10b-382c-4486-9148-67e72232f567\")>,\n",
       " <selenium.webdriver.remote.webelement.WebElement (session=\"e17a9386d00ba47564fc0a21f792a7a9\", element=\"5f7a2d34-8d36-4cd7-baa4-4df653572779\")>,\n",
       " <selenium.webdriver.remote.webelement.WebElement (session=\"e17a9386d00ba47564fc0a21f792a7a9\", element=\"9ba5e53a-f758-4ce4-956b-6e10cd90d13e\")>,\n",
       " <selenium.webdriver.remote.webelement.WebElement (session=\"e17a9386d00ba47564fc0a21f792a7a9\", element=\"bbd95ee1-ebf2-4974-88c5-ceb93bdea666\")>,\n",
       " <selenium.webdriver.remote.webelement.WebElement (session=\"e17a9386d00ba47564fc0a21f792a7a9\", element=\"f9098201-9ea0-44c4-8f53-a4779ba53538\")>,\n",
       " <selenium.webdriver.remote.webelement.WebElement (session=\"e17a9386d00ba47564fc0a21f792a7a9\", element=\"4cac0b4b-c60d-4276-9def-ae6b883419e0\")>,\n",
       " <selenium.webdriver.remote.webelement.WebElement (session=\"e17a9386d00ba47564fc0a21f792a7a9\", element=\"ba131c82-082e-44d3-ad2b-00690bad774d\")>,\n",
       " <selenium.webdriver.remote.webelement.WebElement (session=\"e17a9386d00ba47564fc0a21f792a7a9\", element=\"43c34931-3a7a-450e-b522-fa68915e3bb8\")>,\n",
       " <selenium.webdriver.remote.webelement.WebElement (session=\"e17a9386d00ba47564fc0a21f792a7a9\", element=\"c6023516-b011-4f4e-ac18-3016f489b185\")>,\n",
       " <selenium.webdriver.remote.webelement.WebElement (session=\"e17a9386d00ba47564fc0a21f792a7a9\", element=\"f9d8b679-927e-4c2c-9462-84377bbcc2cf\")>,\n",
       " <selenium.webdriver.remote.webelement.WebElement (session=\"e17a9386d00ba47564fc0a21f792a7a9\", element=\"4b1c9581-0e5d-4692-bd95-af233914fc76\")>,\n",
       " <selenium.webdriver.remote.webelement.WebElement (session=\"e17a9386d00ba47564fc0a21f792a7a9\", element=\"5bcc58a6-79a4-4dd7-b3b5-cd1c5cebdde8\")>,\n",
       " <selenium.webdriver.remote.webelement.WebElement (session=\"e17a9386d00ba47564fc0a21f792a7a9\", element=\"1de8e417-ad7e-40a5-862c-142e44450302\")>,\n",
       " <selenium.webdriver.remote.webelement.WebElement (session=\"e17a9386d00ba47564fc0a21f792a7a9\", element=\"324ccacb-1f48-4cf4-898e-9766dba0eb25\")>,\n",
       " <selenium.webdriver.remote.webelement.WebElement (session=\"e17a9386d00ba47564fc0a21f792a7a9\", element=\"4ed7609c-713e-4a9c-abc8-5488813381f4\")>,\n",
       " <selenium.webdriver.remote.webelement.WebElement (session=\"e17a9386d00ba47564fc0a21f792a7a9\", element=\"11e4c52b-c2c0-44c7-8c00-b8f47fa45dae\")>,\n",
       " <selenium.webdriver.remote.webelement.WebElement (session=\"e17a9386d00ba47564fc0a21f792a7a9\", element=\"f9ca4c14-690f-4b8e-abd4-9ffa9fae0bf2\")>,\n",
       " <selenium.webdriver.remote.webelement.WebElement (session=\"e17a9386d00ba47564fc0a21f792a7a9\", element=\"f06418c6-1934-4811-81c2-bec6187ab9c1\")>]"
      ]
     },
     "execution_count": 48,
     "metadata": {},
     "output_type": "execute_result"
    }
   ],
   "source": [
    "locations_tags=driver.find_elements_by_xpath(\"//li[@class='fleft grey-text br2 placeHolderLi location']/span\")\n",
    "locations_tags"
   ]
  },
  {
   "cell_type": "code",
   "execution_count": 49,
   "metadata": {},
   "outputs": [
    {
     "data": {
      "text/plain": [
       "['Mumbai, Hyderabad/Secunderabad, Pune, Gurgaon/Gurugram, Chennai, Bangalore/Bengaluru',\n",
       " 'Kolkata, Gurgaon/Gurugram, Bangalore/Bengaluru, Vadodara, Mumbai (All Areas)',\n",
       " 'Noida, Hyderabad/Secunderabad, Bangalore/Bengaluru',\n",
       " 'Bangalore/Bengaluru, Delhi / NCR',\n",
       " 'Noida, Gurgaon/Gurugram',\n",
       " 'Bangalore/Bengaluru, Delhi / NCR, Mumbai (All Areas)',\n",
       " 'Gurgaon/Gurugram',\n",
       " 'Gurgaon/Gurugram',\n",
       " 'Noida, Bangalore/Bengaluru',\n",
       " 'Kolkata, Hyderabad/Secunderabad, Pune, Chennai, Bangalore/Bengaluru, Delhi / NCR, Mumbai (All Areas)',\n",
       " 'Mumbai, Gurgaon/Gurugram, Bangalore/Bengaluru',\n",
       " 'Mumbai, Gurgaon/Gurugram, Bangalore/Bengaluru',\n",
       " 'New Delhi, Gurgaon/Gurugram, Delhi / NCR',\n",
       " 'Gurgaon/Gurugram, Delhi / NCR',\n",
       " 'Gurgaon/Gurugram, Delhi / NCR',\n",
       " 'Gurgaon/Gurugram, Delhi / NCR',\n",
       " 'Noida',\n",
       " 'Noida',\n",
       " 'Noida',\n",
       " 'Noida']"
      ]
     },
     "execution_count": 49,
     "metadata": {},
     "output_type": "execute_result"
    }
   ],
   "source": [
    "Locations=[]\n",
    "for i in locations_tags:\n",
    "    Locations.append(i.text)\n",
    "Locations"
   ]
  },
  {
   "cell_type": "code",
   "execution_count": 59,
   "metadata": {},
   "outputs": [
    {
     "data": {
      "text/plain": [
       "[<selenium.webdriver.remote.webelement.WebElement (session=\"e17a9386d00ba47564fc0a21f792a7a9\", element=\"32854dee-73c8-4965-8bb0-1855d8f9b7d1\")>,\n",
       " <selenium.webdriver.remote.webelement.WebElement (session=\"e17a9386d00ba47564fc0a21f792a7a9\", element=\"4bfde5d9-04f3-4dd0-8d9c-795ed082ab5d\")>,\n",
       " <selenium.webdriver.remote.webelement.WebElement (session=\"e17a9386d00ba47564fc0a21f792a7a9\", element=\"5172af40-e521-4d1b-b058-f1df5f0fa37f\")>,\n",
       " <selenium.webdriver.remote.webelement.WebElement (session=\"e17a9386d00ba47564fc0a21f792a7a9\", element=\"ea71a750-005c-4d80-ab23-681783805024\")>,\n",
       " <selenium.webdriver.remote.webelement.WebElement (session=\"e17a9386d00ba47564fc0a21f792a7a9\", element=\"261d017d-ef32-4043-a565-8e3139ff60df\")>,\n",
       " <selenium.webdriver.remote.webelement.WebElement (session=\"e17a9386d00ba47564fc0a21f792a7a9\", element=\"7b85c123-3360-45ef-b7fa-eeb2c4a4855a\")>,\n",
       " <selenium.webdriver.remote.webelement.WebElement (session=\"e17a9386d00ba47564fc0a21f792a7a9\", element=\"6e2c845a-0558-4c83-9335-a60062571f15\")>,\n",
       " <selenium.webdriver.remote.webelement.WebElement (session=\"e17a9386d00ba47564fc0a21f792a7a9\", element=\"5f2b77d7-9020-4ef5-bc5b-e7518878b503\")>,\n",
       " <selenium.webdriver.remote.webelement.WebElement (session=\"e17a9386d00ba47564fc0a21f792a7a9\", element=\"3e3e63af-544c-454c-9497-e9270b69a11a\")>,\n",
       " <selenium.webdriver.remote.webelement.WebElement (session=\"e17a9386d00ba47564fc0a21f792a7a9\", element=\"5e64bd95-086d-44aa-8002-a971175553c2\")>,\n",
       " <selenium.webdriver.remote.webelement.WebElement (session=\"e17a9386d00ba47564fc0a21f792a7a9\", element=\"8e816b5e-feb8-437c-a7b0-24c834199cc1\")>,\n",
       " <selenium.webdriver.remote.webelement.WebElement (session=\"e17a9386d00ba47564fc0a21f792a7a9\", element=\"9afd3054-d5f6-4e73-b50e-66c1fd81c9ba\")>,\n",
       " <selenium.webdriver.remote.webelement.WebElement (session=\"e17a9386d00ba47564fc0a21f792a7a9\", element=\"38868bb4-8ce9-4378-b82b-c51bba134e83\")>,\n",
       " <selenium.webdriver.remote.webelement.WebElement (session=\"e17a9386d00ba47564fc0a21f792a7a9\", element=\"8abf5d6a-fd66-418a-8a44-7344e17c3cb7\")>,\n",
       " <selenium.webdriver.remote.webelement.WebElement (session=\"e17a9386d00ba47564fc0a21f792a7a9\", element=\"14c315d0-1a8a-4334-8148-f8ee0336e33b\")>,\n",
       " <selenium.webdriver.remote.webelement.WebElement (session=\"e17a9386d00ba47564fc0a21f792a7a9\", element=\"5578babe-075d-4f12-b438-5e34209465b2\")>,\n",
       " <selenium.webdriver.remote.webelement.WebElement (session=\"e17a9386d00ba47564fc0a21f792a7a9\", element=\"9269eef8-dfc8-4de1-b4ed-62ff691efea2\")>,\n",
       " <selenium.webdriver.remote.webelement.WebElement (session=\"e17a9386d00ba47564fc0a21f792a7a9\", element=\"c0aa79d3-d535-4ba7-8f4e-478d8f2e5624\")>,\n",
       " <selenium.webdriver.remote.webelement.WebElement (session=\"e17a9386d00ba47564fc0a21f792a7a9\", element=\"fb968c07-64fe-454c-9986-e5932e7b8c83\")>,\n",
       " <selenium.webdriver.remote.webelement.WebElement (session=\"e17a9386d00ba47564fc0a21f792a7a9\", element=\"d31ce590-04f3-43f6-a016-d163632576ae\")>]"
      ]
     },
     "execution_count": 59,
     "metadata": {},
     "output_type": "execute_result"
    }
   ],
   "source": [
    "Salary_tags=driver.find_elements_by_xpath(\"//li[@class='fleft grey-text br2 placeHolderLi salary']/span\")\n",
    "Salary_tags"
   ]
  },
  {
   "cell_type": "code",
   "execution_count": 60,
   "metadata": {},
   "outputs": [
    {
     "data": {
      "text/plain": [
       "['3,50,000 - 4,50,000 PA.',\n",
       " '7,00,000 - 9,50,000 PA.',\n",
       " 'Not disclosed',\n",
       " '20,00,000 - 35,00,000 PA.',\n",
       " '3,50,000 - 6,50,000 PA.',\n",
       " '5,00,000 - 6,00,000 PA.',\n",
       " 'Not disclosed',\n",
       " 'Not disclosed',\n",
       " '50,000 - 3,00,000 PA.',\n",
       " '8,00,000 - 12,00,000 PA.',\n",
       " '10,00,000 - 20,00,000 PA.',\n",
       " '10,00,000 - 20,00,000 PA.',\n",
       " 'Not disclosed',\n",
       " 'Not disclosed',\n",
       " '5,00,000 - 9,00,000 PA.',\n",
       " '5,00,000 - 8,00,000 PA.',\n",
       " 'Not disclosed',\n",
       " 'Not disclosed',\n",
       " 'Not disclosed',\n",
       " 'Not disclosed']"
      ]
     },
     "execution_count": 60,
     "metadata": {},
     "output_type": "execute_result"
    }
   ],
   "source": [
    "Salary=[]\n",
    "for i in Salary_tags:\n",
    "    Salary.append(i.text)\n",
    "Salary"
   ]
  },
  {
   "cell_type": "code",
   "execution_count": 61,
   "metadata": {},
   "outputs": [
    {
     "name": "stdout",
     "output_type": "stream",
     "text": [
      "20 20 20 20\n"
     ]
    },
    {
     "data": {
      "text/plain": [
       "(None, 20)"
      ]
     },
     "execution_count": 61,
     "metadata": {},
     "output_type": "execute_result"
    }
   ],
   "source": [
    "print(len(job_titles),len(company_names),len(Locations),len(Experience)),len(Salary)"
   ]
  },
  {
   "cell_type": "code",
   "execution_count": 62,
   "metadata": {},
   "outputs": [],
   "source": [
    "job=pd.DataFrame({})\n",
    "job['title']=job_titles\n",
    "job['company']=company_names\n",
    "job['experience']=Experience\n",
    "job['location']=Locations\n",
    "job['Salary']=Salary"
   ]
  },
  {
   "cell_type": "code",
   "execution_count": 63,
   "metadata": {},
   "outputs": [
    {
     "data": {
      "text/html": [
       "<div>\n",
       "<style scoped>\n",
       "    .dataframe tbody tr th:only-of-type {\n",
       "        vertical-align: middle;\n",
       "    }\n",
       "\n",
       "    .dataframe tbody tr th {\n",
       "        vertical-align: top;\n",
       "    }\n",
       "\n",
       "    .dataframe thead th {\n",
       "        text-align: right;\n",
       "    }\n",
       "</style>\n",
       "<table border=\"1\" class=\"dataframe\">\n",
       "  <thead>\n",
       "    <tr style=\"text-align: right;\">\n",
       "      <th></th>\n",
       "      <th>title</th>\n",
       "      <th>company</th>\n",
       "      <th>experience</th>\n",
       "      <th>location</th>\n",
       "      <th>Salary</th>\n",
       "    </tr>\n",
       "  </thead>\n",
       "  <tbody>\n",
       "    <tr>\n",
       "      <th>0</th>\n",
       "      <td>Data Scientist / Data Analyst -Business Analyst</td>\n",
       "      <td>Inflexion Analytix Private Limited</td>\n",
       "      <td>0-3 Yrs</td>\n",
       "      <td>Mumbai, Hyderabad/Secunderabad, Pune, Gurgaon/...</td>\n",
       "      <td>3,50,000 - 4,50,000 PA.</td>\n",
       "    </tr>\n",
       "    <tr>\n",
       "      <th>1</th>\n",
       "      <td>Senior Data Scientist, Modeling</td>\n",
       "      <td>Nielsen</td>\n",
       "      <td>3-7 Yrs</td>\n",
       "      <td>Kolkata, Gurgaon/Gurugram, Bangalore/Bengaluru...</td>\n",
       "      <td>7,00,000 - 9,50,000 PA.</td>\n",
       "    </tr>\n",
       "    <tr>\n",
       "      <th>2</th>\n",
       "      <td>Data Scientist - IBM Garage</td>\n",
       "      <td>IBM India Pvt. Limited</td>\n",
       "      <td>5-8 Yrs</td>\n",
       "      <td>Noida, Hyderabad/Secunderabad, Bangalore/Benga...</td>\n",
       "      <td>Not disclosed</td>\n",
       "    </tr>\n",
       "    <tr>\n",
       "      <th>3</th>\n",
       "      <td>Sr. Data Scientist</td>\n",
       "      <td>VALIANCE ANALYTICS PRIVATE LIMITED</td>\n",
       "      <td>6-8 Yrs</td>\n",
       "      <td>Bangalore/Bengaluru, Delhi / NCR</td>\n",
       "      <td>20,00,000 - 35,00,000 PA.</td>\n",
       "    </tr>\n",
       "    <tr>\n",
       "      <th>4</th>\n",
       "      <td>Business Analyst- Data Scientist</td>\n",
       "      <td>Wipro</td>\n",
       "      <td>2-5 Yrs</td>\n",
       "      <td>Noida, Gurgaon/Gurugram</td>\n",
       "      <td>3,50,000 - 6,50,000 PA.</td>\n",
       "    </tr>\n",
       "    <tr>\n",
       "      <th>5</th>\n",
       "      <td>Data Scientist - High growth VC backed Influen...</td>\n",
       "      <td>Ravgins International Pvt. Ltd.</td>\n",
       "      <td>3-5 Yrs</td>\n",
       "      <td>Bangalore/Bengaluru, Delhi / NCR, Mumbai (All ...</td>\n",
       "      <td>5,00,000 - 6,00,000 PA.</td>\n",
       "    </tr>\n",
       "    <tr>\n",
       "      <th>6</th>\n",
       "      <td>Senior data scientist</td>\n",
       "      <td>Cardekho.com</td>\n",
       "      <td>3-6 Yrs</td>\n",
       "      <td>Gurgaon/Gurugram</td>\n",
       "      <td>Not disclosed</td>\n",
       "    </tr>\n",
       "    <tr>\n",
       "      <th>7</th>\n",
       "      <td>Senior Data Scientist - Mobile Application</td>\n",
       "      <td>HOME CREDIT INDIA FINANCE PRIVATE LIMITED</td>\n",
       "      <td>4-9 Yrs</td>\n",
       "      <td>Gurgaon/Gurugram</td>\n",
       "      <td>Not disclosed</td>\n",
       "    </tr>\n",
       "    <tr>\n",
       "      <th>8</th>\n",
       "      <td>Excellent opportunity For Data Scientist</td>\n",
       "      <td>NEC CORPORATION INDIA PRIVATE LIMITED</td>\n",
       "      <td>3-7 Yrs</td>\n",
       "      <td>Noida, Bangalore/Bengaluru</td>\n",
       "      <td>50,000 - 3,00,000 PA.</td>\n",
       "    </tr>\n",
       "    <tr>\n",
       "      <th>9</th>\n",
       "      <td>Data Scientist For an AI Product (Work from Home)</td>\n",
       "      <td>Biz HR IT Solutions</td>\n",
       "      <td>3-5 Yrs</td>\n",
       "      <td>Kolkata, Hyderabad/Secunderabad, Pune, Chennai...</td>\n",
       "      <td>8,00,000 - 12,00,000 PA.</td>\n",
       "    </tr>\n",
       "    <tr>\n",
       "      <th>10</th>\n",
       "      <td>Data Scientist</td>\n",
       "      <td>Mount Talent Consulting Private Limited</td>\n",
       "      <td>3-8 Yrs</td>\n",
       "      <td>Mumbai, Gurgaon/Gurugram, Bangalore/Bengaluru</td>\n",
       "      <td>10,00,000 - 20,00,000 PA.</td>\n",
       "    </tr>\n",
       "    <tr>\n",
       "      <th>11</th>\n",
       "      <td>Data Scientist</td>\n",
       "      <td>Mount Talent Consulting Private Limited</td>\n",
       "      <td>3-8 Yrs</td>\n",
       "      <td>Mumbai, Gurgaon/Gurugram, Bangalore/Bengaluru</td>\n",
       "      <td>10,00,000 - 20,00,000 PA.</td>\n",
       "    </tr>\n",
       "    <tr>\n",
       "      <th>12</th>\n",
       "      <td>Data Scientist</td>\n",
       "      <td>Mobikwik</td>\n",
       "      <td>3-5 Yrs</td>\n",
       "      <td>New Delhi, Gurgaon/Gurugram, Delhi / NCR</td>\n",
       "      <td>Not disclosed</td>\n",
       "    </tr>\n",
       "    <tr>\n",
       "      <th>13</th>\n",
       "      <td>Driveline Data Scientist</td>\n",
       "      <td>CNH Industrial India Pvt. Ltd</td>\n",
       "      <td>5-10 Yrs</td>\n",
       "      <td>Gurgaon/Gurugram, Delhi / NCR</td>\n",
       "      <td>Not disclosed</td>\n",
       "    </tr>\n",
       "    <tr>\n",
       "      <th>14</th>\n",
       "      <td>DATA Scientist – Gurgaon (Exp 3-6 years)</td>\n",
       "      <td>CRESCENDO GLOBAL LEADERSHIP HIRING INDIA PRIVA...</td>\n",
       "      <td>3-6 Yrs</td>\n",
       "      <td>Gurgaon/Gurugram, Delhi / NCR</td>\n",
       "      <td>5,00,000 - 9,00,000 PA.</td>\n",
       "    </tr>\n",
       "    <tr>\n",
       "      <th>15</th>\n",
       "      <td>DATA Scientist – Gurgaon (Exp 3-6 years)</td>\n",
       "      <td>CRESCENDO GLOBAL LEADERSHIP HIRING INDIA PRIVA...</td>\n",
       "      <td>3-6 Yrs</td>\n",
       "      <td>Gurgaon/Gurugram, Delhi / NCR</td>\n",
       "      <td>5,00,000 - 8,00,000 PA.</td>\n",
       "    </tr>\n",
       "    <tr>\n",
       "      <th>16</th>\n",
       "      <td>Data Scientist - Noida</td>\n",
       "      <td>Agreeya</td>\n",
       "      <td>3-7 Yrs</td>\n",
       "      <td>Noida</td>\n",
       "      <td>Not disclosed</td>\n",
       "    </tr>\n",
       "    <tr>\n",
       "      <th>17</th>\n",
       "      <td>Data Scientist - Noida</td>\n",
       "      <td>Agreeya</td>\n",
       "      <td>3-7 Yrs</td>\n",
       "      <td>Noida</td>\n",
       "      <td>Not disclosed</td>\n",
       "    </tr>\n",
       "    <tr>\n",
       "      <th>18</th>\n",
       "      <td>Data Scientist - Noida</td>\n",
       "      <td>Optum Global Solutions (India) Private Limited</td>\n",
       "      <td>3-5 Yrs</td>\n",
       "      <td>Noida</td>\n",
       "      <td>Not disclosed</td>\n",
       "    </tr>\n",
       "    <tr>\n",
       "      <th>19</th>\n",
       "      <td>Data Scientist</td>\n",
       "      <td>MOTHERSONSUMI INFOTECH &amp; DESIGNS LIMITED</td>\n",
       "      <td>2-5 Yrs</td>\n",
       "      <td>Noida</td>\n",
       "      <td>Not disclosed</td>\n",
       "    </tr>\n",
       "  </tbody>\n",
       "</table>\n",
       "</div>"
      ],
      "text/plain": [
       "                                                title  \\\n",
       "0     Data Scientist / Data Analyst -Business Analyst   \n",
       "1                     Senior Data Scientist, Modeling   \n",
       "2                         Data Scientist - IBM Garage   \n",
       "3                                  Sr. Data Scientist   \n",
       "4                    Business Analyst- Data Scientist   \n",
       "5   Data Scientist - High growth VC backed Influen...   \n",
       "6                               Senior data scientist   \n",
       "7          Senior Data Scientist - Mobile Application   \n",
       "8            Excellent opportunity For Data Scientist   \n",
       "9   Data Scientist For an AI Product (Work from Home)   \n",
       "10                                     Data Scientist   \n",
       "11                                     Data Scientist   \n",
       "12                                     Data Scientist   \n",
       "13                           Driveline Data Scientist   \n",
       "14           DATA Scientist – Gurgaon (Exp 3-6 years)   \n",
       "15           DATA Scientist – Gurgaon (Exp 3-6 years)   \n",
       "16                             Data Scientist - Noida   \n",
       "17                             Data Scientist - Noida   \n",
       "18                             Data Scientist - Noida   \n",
       "19                                     Data Scientist   \n",
       "\n",
       "                                              company experience  \\\n",
       "0                  Inflexion Analytix Private Limited    0-3 Yrs   \n",
       "1                                             Nielsen    3-7 Yrs   \n",
       "2                              IBM India Pvt. Limited    5-8 Yrs   \n",
       "3                  VALIANCE ANALYTICS PRIVATE LIMITED    6-8 Yrs   \n",
       "4                                               Wipro    2-5 Yrs   \n",
       "5                     Ravgins International Pvt. Ltd.    3-5 Yrs   \n",
       "6                                        Cardekho.com    3-6 Yrs   \n",
       "7           HOME CREDIT INDIA FINANCE PRIVATE LIMITED    4-9 Yrs   \n",
       "8               NEC CORPORATION INDIA PRIVATE LIMITED    3-7 Yrs   \n",
       "9                                 Biz HR IT Solutions    3-5 Yrs   \n",
       "10            Mount Talent Consulting Private Limited    3-8 Yrs   \n",
       "11            Mount Talent Consulting Private Limited    3-8 Yrs   \n",
       "12                                           Mobikwik    3-5 Yrs   \n",
       "13                      CNH Industrial India Pvt. Ltd   5-10 Yrs   \n",
       "14  CRESCENDO GLOBAL LEADERSHIP HIRING INDIA PRIVA...    3-6 Yrs   \n",
       "15  CRESCENDO GLOBAL LEADERSHIP HIRING INDIA PRIVA...    3-6 Yrs   \n",
       "16                                            Agreeya    3-7 Yrs   \n",
       "17                                            Agreeya    3-7 Yrs   \n",
       "18     Optum Global Solutions (India) Private Limited    3-5 Yrs   \n",
       "19           MOTHERSONSUMI INFOTECH & DESIGNS LIMITED    2-5 Yrs   \n",
       "\n",
       "                                             location  \\\n",
       "0   Mumbai, Hyderabad/Secunderabad, Pune, Gurgaon/...   \n",
       "1   Kolkata, Gurgaon/Gurugram, Bangalore/Bengaluru...   \n",
       "2   Noida, Hyderabad/Secunderabad, Bangalore/Benga...   \n",
       "3                    Bangalore/Bengaluru, Delhi / NCR   \n",
       "4                             Noida, Gurgaon/Gurugram   \n",
       "5   Bangalore/Bengaluru, Delhi / NCR, Mumbai (All ...   \n",
       "6                                    Gurgaon/Gurugram   \n",
       "7                                    Gurgaon/Gurugram   \n",
       "8                          Noida, Bangalore/Bengaluru   \n",
       "9   Kolkata, Hyderabad/Secunderabad, Pune, Chennai...   \n",
       "10      Mumbai, Gurgaon/Gurugram, Bangalore/Bengaluru   \n",
       "11      Mumbai, Gurgaon/Gurugram, Bangalore/Bengaluru   \n",
       "12           New Delhi, Gurgaon/Gurugram, Delhi / NCR   \n",
       "13                      Gurgaon/Gurugram, Delhi / NCR   \n",
       "14                      Gurgaon/Gurugram, Delhi / NCR   \n",
       "15                      Gurgaon/Gurugram, Delhi / NCR   \n",
       "16                                              Noida   \n",
       "17                                              Noida   \n",
       "18                                              Noida   \n",
       "19                                              Noida   \n",
       "\n",
       "                       Salary  \n",
       "0     3,50,000 - 4,50,000 PA.  \n",
       "1     7,00,000 - 9,50,000 PA.  \n",
       "2               Not disclosed  \n",
       "3   20,00,000 - 35,00,000 PA.  \n",
       "4     3,50,000 - 6,50,000 PA.  \n",
       "5     5,00,000 - 6,00,000 PA.  \n",
       "6               Not disclosed  \n",
       "7               Not disclosed  \n",
       "8       50,000 - 3,00,000 PA.  \n",
       "9    8,00,000 - 12,00,000 PA.  \n",
       "10  10,00,000 - 20,00,000 PA.  \n",
       "11  10,00,000 - 20,00,000 PA.  \n",
       "12              Not disclosed  \n",
       "13              Not disclosed  \n",
       "14    5,00,000 - 9,00,000 PA.  \n",
       "15    5,00,000 - 8,00,000 PA.  \n",
       "16              Not disclosed  \n",
       "17              Not disclosed  \n",
       "18              Not disclosed  \n",
       "19              Not disclosed  "
      ]
     },
     "execution_count": 63,
     "metadata": {},
     "output_type": "execute_result"
    }
   ],
   "source": [
    "job"
   ]
  },
  {
   "cell_type": "code",
   "execution_count": null,
   "metadata": {},
   "outputs": [],
   "source": []
  }
 ],
 "metadata": {
  "kernelspec": {
   "display_name": "Python 3",
   "language": "python",
   "name": "python3"
  },
  "language_info": {
   "codemirror_mode": {
    "name": "ipython",
    "version": 3
   },
   "file_extension": ".py",
   "mimetype": "text/x-python",
   "name": "python",
   "nbconvert_exporter": "python",
   "pygments_lexer": "ipython3",
   "version": "3.8.3"
  }
 },
 "nbformat": 4,
 "nbformat_minor": 4
}
